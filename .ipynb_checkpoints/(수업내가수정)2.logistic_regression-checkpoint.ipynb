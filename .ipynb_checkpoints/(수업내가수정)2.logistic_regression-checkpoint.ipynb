{
 "cells": [
  {
   "cell_type": "code",
   "execution_count": 3,
   "metadata": {},
   "outputs": [
    {
     "ename": "ImportError",
     "evalue": "Keras requires TensorFlow 2.2 or higher. Install TensorFlow via `pip install tensorflow`",
     "output_type": "error",
     "traceback": [
      "\u001b[1;31m---------------------------------------------------------------------------\u001b[0m",
      "\u001b[1;31mImportError\u001b[0m                               Traceback (most recent call last)",
      "\u001b[1;32m~\\anaconda3\\lib\\site-packages\\tensorflow\\python\\pywrap_tensorflow.py\u001b[0m in \u001b[0;36m<module>\u001b[1;34m\u001b[0m\n\u001b[0;32m     63\u001b[0m   \u001b[1;32mtry\u001b[0m\u001b[1;33m:\u001b[0m\u001b[1;33m\u001b[0m\u001b[1;33m\u001b[0m\u001b[0m\n\u001b[1;32m---> 64\u001b[1;33m     \u001b[1;32mfrom\u001b[0m \u001b[0mtensorflow\u001b[0m\u001b[1;33m.\u001b[0m\u001b[0mpython\u001b[0m\u001b[1;33m.\u001b[0m\u001b[0m_pywrap_tensorflow_internal\u001b[0m \u001b[1;32mimport\u001b[0m \u001b[1;33m*\u001b[0m\u001b[1;33m\u001b[0m\u001b[1;33m\u001b[0m\u001b[0m\n\u001b[0m\u001b[0;32m     65\u001b[0m   \u001b[1;31m# This try catch logic is because there is no bazel equivalent for py_extension.\u001b[0m\u001b[1;33m\u001b[0m\u001b[1;33m\u001b[0m\u001b[1;33m\u001b[0m\u001b[0m\n",
      "\u001b[1;31mImportError\u001b[0m: DLL load failed: 지정된 모듈을 찾을 수 없습니다.",
      "\nDuring handling of the above exception, another exception occurred:\n",
      "\u001b[1;31mImportError\u001b[0m                               Traceback (most recent call last)",
      "\u001b[1;32m~\\anaconda3\\lib\\site-packages\\keras\\__init__.py\u001b[0m in \u001b[0;36m<module>\u001b[1;34m\u001b[0m\n\u001b[0;32m      2\u001b[0m \u001b[1;32mtry\u001b[0m\u001b[1;33m:\u001b[0m\u001b[1;33m\u001b[0m\u001b[1;33m\u001b[0m\u001b[0m\n\u001b[1;32m----> 3\u001b[1;33m     \u001b[1;32mfrom\u001b[0m \u001b[0mtensorflow\u001b[0m\u001b[1;33m.\u001b[0m\u001b[0mkeras\u001b[0m\u001b[1;33m.\u001b[0m\u001b[0mlayers\u001b[0m\u001b[1;33m.\u001b[0m\u001b[0mexperimental\u001b[0m\u001b[1;33m.\u001b[0m\u001b[0mpreprocessing\u001b[0m \u001b[1;32mimport\u001b[0m \u001b[0mRandomRotation\u001b[0m\u001b[1;33m\u001b[0m\u001b[1;33m\u001b[0m\u001b[0m\n\u001b[0m\u001b[0;32m      4\u001b[0m \u001b[1;32mexcept\u001b[0m \u001b[0mImportError\u001b[0m\u001b[1;33m:\u001b[0m\u001b[1;33m\u001b[0m\u001b[1;33m\u001b[0m\u001b[0m\n",
      "\u001b[1;32m~\\anaconda3\\lib\\site-packages\\tensorflow\\__init__.py\u001b[0m in \u001b[0;36m<module>\u001b[1;34m\u001b[0m\n\u001b[0;32m     40\u001b[0m \u001b[1;33m\u001b[0m\u001b[0m\n\u001b[1;32m---> 41\u001b[1;33m \u001b[1;32mfrom\u001b[0m \u001b[0mtensorflow\u001b[0m\u001b[1;33m.\u001b[0m\u001b[0mpython\u001b[0m\u001b[1;33m.\u001b[0m\u001b[0mtools\u001b[0m \u001b[1;32mimport\u001b[0m \u001b[0mmodule_util\u001b[0m \u001b[1;32mas\u001b[0m \u001b[0m_module_util\u001b[0m\u001b[1;33m\u001b[0m\u001b[1;33m\u001b[0m\u001b[0m\n\u001b[0m\u001b[0;32m     42\u001b[0m \u001b[1;32mfrom\u001b[0m \u001b[0mtensorflow\u001b[0m\u001b[1;33m.\u001b[0m\u001b[0mpython\u001b[0m\u001b[1;33m.\u001b[0m\u001b[0mutil\u001b[0m\u001b[1;33m.\u001b[0m\u001b[0mlazy_loader\u001b[0m \u001b[1;32mimport\u001b[0m \u001b[0mLazyLoader\u001b[0m \u001b[1;32mas\u001b[0m \u001b[0m_LazyLoader\u001b[0m\u001b[1;33m\u001b[0m\u001b[1;33m\u001b[0m\u001b[0m\n",
      "\u001b[1;32m~\\anaconda3\\lib\\site-packages\\tensorflow\\python\\__init__.py\u001b[0m in \u001b[0;36m<module>\u001b[1;34m\u001b[0m\n\u001b[0;32m     39\u001b[0m \u001b[1;33m\u001b[0m\u001b[0m\n\u001b[1;32m---> 40\u001b[1;33m \u001b[1;32mfrom\u001b[0m \u001b[0mtensorflow\u001b[0m\u001b[1;33m.\u001b[0m\u001b[0mpython\u001b[0m\u001b[1;33m.\u001b[0m\u001b[0meager\u001b[0m \u001b[1;32mimport\u001b[0m \u001b[0mcontext\u001b[0m\u001b[1;33m\u001b[0m\u001b[1;33m\u001b[0m\u001b[0m\n\u001b[0m\u001b[0;32m     41\u001b[0m \u001b[1;33m\u001b[0m\u001b[0m\n",
      "\u001b[1;32m~\\anaconda3\\lib\\site-packages\\tensorflow\\python\\eager\\context.py\u001b[0m in \u001b[0;36m<module>\u001b[1;34m\u001b[0m\n\u001b[0;32m     34\u001b[0m \u001b[1;32mfrom\u001b[0m \u001b[0mtensorflow\u001b[0m\u001b[1;33m.\u001b[0m\u001b[0mcore\u001b[0m\u001b[1;33m.\u001b[0m\u001b[0mprotobuf\u001b[0m \u001b[1;32mimport\u001b[0m \u001b[0mrewriter_config_pb2\u001b[0m\u001b[1;33m\u001b[0m\u001b[1;33m\u001b[0m\u001b[0m\n\u001b[1;32m---> 35\u001b[1;33m \u001b[1;32mfrom\u001b[0m \u001b[0mtensorflow\u001b[0m\u001b[1;33m.\u001b[0m\u001b[0mpython\u001b[0m \u001b[1;32mimport\u001b[0m \u001b[0mpywrap_tfe\u001b[0m\u001b[1;33m\u001b[0m\u001b[1;33m\u001b[0m\u001b[0m\n\u001b[0m\u001b[0;32m     36\u001b[0m \u001b[1;32mfrom\u001b[0m \u001b[0mtensorflow\u001b[0m\u001b[1;33m.\u001b[0m\u001b[0mpython\u001b[0m \u001b[1;32mimport\u001b[0m \u001b[0mtf2\u001b[0m\u001b[1;33m\u001b[0m\u001b[1;33m\u001b[0m\u001b[0m\n",
      "\u001b[1;32m~\\anaconda3\\lib\\site-packages\\tensorflow\\python\\pywrap_tfe.py\u001b[0m in \u001b[0;36m<module>\u001b[1;34m\u001b[0m\n\u001b[0;32m     27\u001b[0m \u001b[1;31m# pylint: disable=invalid-import-order,g-bad-import-order, wildcard-import, unused-import\u001b[0m\u001b[1;33m\u001b[0m\u001b[1;33m\u001b[0m\u001b[1;33m\u001b[0m\u001b[0m\n\u001b[1;32m---> 28\u001b[1;33m \u001b[1;32mfrom\u001b[0m \u001b[0mtensorflow\u001b[0m\u001b[1;33m.\u001b[0m\u001b[0mpython\u001b[0m \u001b[1;32mimport\u001b[0m \u001b[0mpywrap_tensorflow\u001b[0m\u001b[1;33m\u001b[0m\u001b[1;33m\u001b[0m\u001b[0m\n\u001b[0m\u001b[0;32m     29\u001b[0m \u001b[1;32mfrom\u001b[0m \u001b[0mtensorflow\u001b[0m\u001b[1;33m.\u001b[0m\u001b[0mpython\u001b[0m\u001b[1;33m.\u001b[0m\u001b[0m_pywrap_tfe\u001b[0m \u001b[1;32mimport\u001b[0m \u001b[1;33m*\u001b[0m\u001b[1;33m\u001b[0m\u001b[1;33m\u001b[0m\u001b[0m\n",
      "\u001b[1;32m~\\anaconda3\\lib\\site-packages\\tensorflow\\python\\pywrap_tensorflow.py\u001b[0m in \u001b[0;36m<module>\u001b[1;34m\u001b[0m\n\u001b[0;32m     82\u001b[0m above this error message when asking for help.\"\"\" % traceback.format_exc()\n\u001b[1;32m---> 83\u001b[1;33m   \u001b[1;32mraise\u001b[0m \u001b[0mImportError\u001b[0m\u001b[1;33m(\u001b[0m\u001b[0mmsg\u001b[0m\u001b[1;33m)\u001b[0m\u001b[1;33m\u001b[0m\u001b[1;33m\u001b[0m\u001b[0m\n\u001b[0m\u001b[0;32m     84\u001b[0m \u001b[1;33m\u001b[0m\u001b[0m\n",
      "\u001b[1;31mImportError\u001b[0m: Traceback (most recent call last):\n  File \"C:\\Users\\edu\\anaconda3\\lib\\site-packages\\tensorflow\\python\\pywrap_tensorflow.py\", line 64, in <module>\n    from tensorflow.python._pywrap_tensorflow_internal import *\nImportError: DLL load failed: 지정된 모듈을 찾을 수 없습니다.\n\n\nFailed to load the native TensorFlow runtime.\n\nSee https://www.tensorflow.org/install/errors\n\nfor some common reasons and solutions.  Include the entire stack trace\nabove this error message when asking for help.",
      "\nDuring handling of the above exception, another exception occurred:\n",
      "\u001b[1;31mImportError\u001b[0m                               Traceback (most recent call last)",
      "\u001b[1;32m<ipython-input-3-595bc78a4ec9>\u001b[0m in \u001b[0;36m<module>\u001b[1;34m\u001b[0m\n\u001b[1;32m----> 1\u001b[1;33m \u001b[1;32mfrom\u001b[0m \u001b[0mkeras\u001b[0m\u001b[1;33m.\u001b[0m\u001b[0mmodels\u001b[0m \u001b[1;32mimport\u001b[0m \u001b[0mSequential\u001b[0m \u001b[1;31m# 케라스의 Sequential()을 임포트\u001b[0m\u001b[1;33m\u001b[0m\u001b[1;33m\u001b[0m\u001b[0m\n\u001b[0m\u001b[0;32m      2\u001b[0m \u001b[1;32mfrom\u001b[0m \u001b[0mkeras\u001b[0m\u001b[1;33m.\u001b[0m\u001b[0mlayers\u001b[0m \u001b[1;32mimport\u001b[0m \u001b[0mDense\u001b[0m      \u001b[1;31m# 케라스의 Dense()를 임포트\u001b[0m\u001b[1;33m\u001b[0m\u001b[1;33m\u001b[0m\u001b[0m\n\u001b[0;32m      3\u001b[0m \u001b[1;32mfrom\u001b[0m \u001b[0mkeras\u001b[0m \u001b[1;32mimport\u001b[0m \u001b[0moptimizers\u001b[0m        \u001b[1;31m# 케라스의 옵티마이저를 임포트\u001b[0m\u001b[1;33m\u001b[0m\u001b[1;33m\u001b[0m\u001b[0m\n\u001b[0;32m      4\u001b[0m \u001b[1;32mimport\u001b[0m \u001b[0mnumpy\u001b[0m \u001b[1;32mas\u001b[0m \u001b[0mnp\u001b[0m \u001b[1;31m# Numpy를 임포트\u001b[0m\u001b[1;33m\u001b[0m\u001b[1;33m\u001b[0m\u001b[0m\n\u001b[0;32m      5\u001b[0m \u001b[1;32mimport\u001b[0m \u001b[0mmatplotlib\u001b[0m\u001b[1;33m.\u001b[0m\u001b[0mpyplot\u001b[0m \u001b[1;32mas\u001b[0m \u001b[0mplt\u001b[0m\u001b[1;33m\u001b[0m\u001b[1;33m\u001b[0m\u001b[0m\n",
      "\u001b[1;32m~\\anaconda3\\lib\\site-packages\\keras\\__init__.py\u001b[0m in \u001b[0;36m<module>\u001b[1;34m\u001b[0m\n\u001b[0;32m      4\u001b[0m \u001b[1;32mexcept\u001b[0m \u001b[0mImportError\u001b[0m\u001b[1;33m:\u001b[0m\u001b[1;33m\u001b[0m\u001b[1;33m\u001b[0m\u001b[0m\n\u001b[0;32m      5\u001b[0m     raise ImportError(\n\u001b[1;32m----> 6\u001b[1;33m         \u001b[1;34m'Keras requires TensorFlow 2.2 or higher. '\u001b[0m\u001b[1;33m\u001b[0m\u001b[1;33m\u001b[0m\u001b[0m\n\u001b[0m\u001b[0;32m      7\u001b[0m         'Install TensorFlow via `pip install tensorflow`')\n\u001b[0;32m      8\u001b[0m \u001b[1;33m\u001b[0m\u001b[0m\n",
      "\u001b[1;31mImportError\u001b[0m: Keras requires TensorFlow 2.2 or higher. Install TensorFlow via `pip install tensorflow`"
     ]
    }
   ],
   "source": [
    "from keras.models import Sequential # 케라스의 Sequential()을 임포트\n",
    "from keras.layers import Dense      # 케라스의 Dense()를 임포트\n",
    "from keras import optimizers        # 케라스의 옵티마이저를 임포트\n",
    "import numpy as np # Numpy를 임포트\n",
    "import matplotlib.pyplot as plt\n",
    "\n",
    "X=np.array([0,1,2,3,4,5,6,7]) \n",
    "Y=np.array([0,0,0,0,1,1,1,1]) \n",
    "\n",
    "model=Sequential()\n",
    "model.add(Dense(1, input_dim=1, activation='sigmoid'))\n",
    "RMSprop=optimizers.RMSprop(lr=0.01)\n",
    "model.compile(optimizer=RMSprop ,loss='binary_crossentropy',metrics=['accuracy'])\n",
    "model.fit(X,Y, batch_size=1, epochs=200, shuffle=False)\n",
    "\n",
    "plt.plot(X, Y, 'rx')\n",
    "print(X)\n",
    "print(model.predict(X))\n",
    "plt.show()"
   ]
  },
  {
   "cell_type": "code",
   "execution_count": 5,
   "metadata": {},
   "outputs": [
    {
     "name": "stdout",
     "output_type": "stream",
     "text": [
      "1 : 양성종양\n",
      "2 : 양성종양\n",
      "3 : 양성종양\n",
      "4 : 양성종양\n",
      "5 : 악성종양\n",
      "6 : 악성종양\n",
      "7 : 악성종양\n",
      "8 : 악성종양\n"
     ]
    },
    {
     "data": {
      "image/png": "[encoded data removed]",
      "text/plain": [
       "<Figure size 432x288 with 1 Axes>"
      ]
     },
     "metadata": {
      "needs_background": "light"
     },
     "output_type": "display_data"
    }
   ],
   "source": [
    "import matplotlib.pyplot as  plt\n",
    "import numpy as np\n",
    "\n",
    "class Neuron:\n",
    "    \n",
    "    def __init__(self):\n",
    "        self.w = 1.0     # 가중치를 초기화합니다\n",
    "        self.b = 1.0     # 절편을 초기화합니다\n",
    "    \n",
    "    def forpass(self, x):\n",
    "        y_hat = x * self.w + self.b       # 직선 방정식을 계산합니다\n",
    "        return y_hat\n",
    "    \n",
    "    def backprop(self, x, err):\n",
    "        w_grad = x * err    # 가중치에 대한 그래디언트를 계산합니다\n",
    "        b_grad = 1 * err    # 절편에 대한 그래디언트를 계산합니다\n",
    "        return w_grad, b_grad\n",
    "\n",
    "    def activation(self, z):\n",
    "        return z\n",
    "    \n",
    "    def fit(self, x, y, epochs=200):\n",
    "        for i in range(epochs):           # 에포크만큼 반복합니다\n",
    "            for x_i, y_i in zip(x, y):    # 모든 샘플에 대해 반복합니다\n",
    "                y_hat = self.forpass(x_i) # 정방향 계산\n",
    "                y_hat = self.activation(y_hat)\n",
    "                err = y_i - y_hat      # 오차 계산\n",
    "                w_grad, b_grad = self.backprop(x_i, err)  # 역방향 계산\n",
    "                self.w += 0.01*w_grad          # 가중치 업데이트\n",
    "                self.b += 0.01*b_grad          # 절편 업데이트\n",
    "\n",
    "x = np.array([1,2,3,4,5,6,7,8])\n",
    "y = np.array([0,0,0,0,1,1,1,1])\n",
    "# x = np.array([1,2,3,4,5,6,7,8,10])\n",
    "# y = np.array([0,0,0,0,1,1,1,1,1])                \n",
    "\n",
    "neuron = Neuron()\n",
    "neuron.fit(x, y)\n",
    "\n",
    "for xi, yi in zip(x,y):\n",
    "    plt.plot(xi,yi,\"rx\")\n",
    "\n",
    "y_temp = []\n",
    "for x_i in x:\n",
    "    y_hat = neuron.forpass(x_i)\n",
    "    if( y_hat >= 0.5 ):\n",
    "        print(\"%d : 악성종양\"%x_i)\n",
    "    else:\n",
    "        print(\"%d : 양성종양\"%x_i)\n",
    "    y_temp.append(y_hat)\n",
    "\n",
    "plt.plot(x,y_temp)\n",
    "plt.show()"
   ]
  },
  {
   "cell_type": "code",
   "execution_count": 4,
   "metadata": {},
   "outputs": [
    {
     "name": "stdout",
     "output_type": "stream",
     "text": [
      "1 : 양성종양\n",
      "2 : 양성종양\n",
      "3 : 양성종양\n",
      "4 : 양성종양\n",
      "5 : 양성종양\n",
      "6 : 악성종양\n",
      "7 : 악성종양\n",
      "8 : 악성종양\n",
      "10 : 악성종양\n"
     ]
    },
    {
     "data": {
      "image/png": "[encoded data removed]",
      "text/plain": [
       "<Figure size 432x288 with 1 Axes>"
      ]
     },
     "metadata": {
      "needs_background": "light"
     },
     "output_type": "display_data"
    }
   ],
   "source": [
    "import matplotlib.pyplot as  plt\n",
    "import numpy as np\n",
    "\n",
    "class Neuron:\n",
    "    \n",
    "    def __init__(self):\n",
    "        self.w = 1.0     # 가중치를 초기화합니다\n",
    "        self.b = 1.0     # 절편을 초기화합니다\n",
    "    \n",
    "    def forpass(self, x):\n",
    "        y_hat = x * self.w + self.b       # 직선 방정식을 계산합니다\n",
    "        return y_hat\n",
    "    \n",
    "    def backprop(self, x, err):\n",
    "        w_grad = x * err    # 가중치에 대한 그래디언트를 계산합니다\n",
    "        b_grad = 1 * err    # 절편에 대한 그래디언트를 계산합니다\n",
    "        return w_grad, b_grad\n",
    "\n",
    "    def activation(self, z):\n",
    "        return z\n",
    "    \n",
    "    def fit(self, x, y, epochs=200):\n",
    "        for i in range(epochs):           # 에포크만큼 반복합니다\n",
    "            for x_i, y_i in zip(x, y):    # 모든 샘플에 대해 반복합니다\n",
    "                y_hat = self.forpass(x_i) # 정방향 계산\n",
    "                y_hat = self.activation(y_hat)\n",
    "                err = y_i - y_hat      # 오차 계산\n",
    "                w_grad, b_grad = self.backprop(x_i, err)  # 역방향 계산\n",
    "                self.w += 0.01*w_grad          # 가중치 업데이트\n",
    "                self.b += 0.01*b_grad          # 절편 업데이트\n",
    "\n",
    "# x = np.array([1,2,3,4,5,6,7,8])\n",
    "# y = np.array([0,0,0,0,1,1,1,1])\n",
    "x = np.array([1,2,3,4,5,6,7,8,10])\n",
    "y = np.array([0,0,0,0,1,1,1,1,1])                \n",
    "\n",
    "neuron = Neuron()\n",
    "neuron.fit(x, y)\n",
    "\n",
    "for xi, yi in zip(x,y):\n",
    "    plt.plot(xi,yi,\"rx\")\n",
    "\n",
    "y_temp = []\n",
    "for x_i in x:\n",
    "    y_hat = neuron.forpass(x_i)\n",
    "    if( y_hat >= 0.5 ):\n",
    "        print(\"%d : 악성종양\"%x_i)\n",
    "    else:\n",
    "        print(\"%d : 양성종양\"%x_i)\n",
    "    y_temp.append(y_hat)\n",
    "\n",
    "plt.plot(x,y_temp)\n",
    "plt.show()"
   ]
  },
  {
   "cell_type": "code",
   "execution_count": 6,
   "metadata": {},
   "outputs": [
    {
     "data": {
      "image/png": "[encoded data removed]",
      "text/plain": [
       "<Figure size 432x288 with 1 Axes>"
      ]
     },
     "metadata": {
      "needs_background": "light"
     },
     "output_type": "display_data"
    }
   ],
   "source": [
    "import numpy as np\n",
    "import matplotlib.pyplot as plt\n",
    "np.random.seed(42)\n",
    "probs = np.arange(0, 1, 0.01)\n",
    "odds = [p/(1-p) for p in probs]\n",
    "plt.plot(probs, odds)\n",
    "plt.xlabel('p')\n",
    "plt.ylabel('p/(1-p)')\n",
    "plt.show()"
   ]
  },
  {
   "cell_type": "code",
   "execution_count": 7,
   "metadata": {},
   "outputs": [
    {
     "data": {
      "image/png": "[encoded data removed]",
      "text/plain": [
       "<Figure size 432x288 with 1 Axes>"
      ]
     },
     "metadata": {
      "needs_background": "light"
     },
     "output_type": "display_data"
    }
   ],
   "source": [
    "probs  = np.arange(0.001, 0.999, 0.001)\n",
    "logit = [np.log(p/(1-p)) for p in probs]\n",
    "plt.plot(probs, logit)\n",
    "plt.xlabel('p')\n",
    "plt.ylabel('log(p/(1-p))')\n",
    "plt.show()"
   ]
  },
  {
   "cell_type": "code",
   "execution_count": 28,
   "metadata": {},
   "outputs": [
    {
     "data": {
      "image/png": "[encoded data removed]",
      "text/plain": [
       "<Figure size 432x288 with 1 Axes>"
      ]
     },
     "metadata": {
      "needs_background": "light"
     },
     "output_type": "display_data"
    }
   ],
   "source": [
    "zs = np.arange(-10., 10., 0.1)\n",
    "gs = [1/(1+np.exp(-z)) for z in zs]\n",
    "plt.plot(zs, gs)\n",
    "plt.xlabel('z')\n",
    "plt.ylabel('1/(1+e^-z)')\n",
    "plt.show()"
   ]
  },
  {
   "cell_type": "code",
   "execution_count": 29,
   "metadata": {},
   "outputs": [
    {
     "data": {
      "image/png": "[encoded data removed]",
      "text/plain": [
       "<Figure size 432x288 with 1 Axes>"
      ]
     },
     "metadata": {
      "needs_background": "light"
     },
     "output_type": "display_data"
    }
   ],
   "source": [
    "zs = np.arange(0.01, 10., 0.01)\n",
    "gs = [-np.log(z) for z in zs]\n",
    "plt.plot(zs, gs)\n",
    "plt.xlim(0,1)\n",
    "plt.ylim(-5,5)\n",
    "plt.xlabel('z')\n",
    "plt.ylabel('(-np.log(z)')\n",
    "plt.show()"
   ]
  },
  {
   "cell_type": "code",
   "execution_count": 8,
   "metadata": {},
   "outputs": [
    {
     "name": "stderr",
     "output_type": "stream",
     "text": [
      "C:\\Users\\edu\\anaconda3\\lib\\site-packages\\ipykernel_launcher.py:2: RuntimeWarning: divide by zero encountered in log\n",
      "  \n",
      "C:\\Users\\edu\\anaconda3\\lib\\site-packages\\ipykernel_launcher.py:2: RuntimeWarning: invalid value encountered in log\n",
      "  \n"
     ]
    },
    {
     "data": {
      "image/png": "[encoded data removed]",
      "text/plain": [
       "<Figure size 432x288 with 1 Axes>"
      ]
     },
     "metadata": {
      "needs_background": "light"
     },
     "output_type": "display_data"
    }
   ],
   "source": [
    "zs = np.arange(0.01, 10., 0.01)\n",
    "gs = [-np.log(1-z) for z in zs]\n",
    "plt.plot(zs, gs)\n",
    "plt.xlim(0,1)\n",
    "plt.ylim(0,5)\n",
    "plt.xlabel('z')\n",
    "plt.ylabel('-(np.log(1-z)')\n",
    "plt.show()"
   ]
  },
  {
   "cell_type": "code",
   "execution_count": 9,
   "metadata": {},
   "outputs": [
    {
     "name": "stdout",
     "output_type": "stream",
     "text": [
      "1 : 양성종양\n",
      "2 : 양성종양\n",
      "3 : 양성종양\n",
      "4 : 악성종양\n",
      "5 : 악성종양\n",
      "6 : 악성종양\n",
      "7 : 악성종양\n",
      "8 : 악성종양\n",
      "12 : 악성종양\n"
     ]
    },
    {
     "data": {
      "image/png": "[encoded data removed]",
      "text/plain": [
       "<Figure size 432x288 with 1 Axes>"
      ]
     },
     "metadata": {
      "needs_background": "light"
     },
     "output_type": "display_data"
    }
   ],
   "source": [
    "import matplotlib.pyplot as  plt\n",
    "import numpy as np\n",
    "\n",
    "class Neuron:\n",
    "    \n",
    "    def __init__(self):\n",
    "        self.w = 1.0     # 가중치를 초기화합니다\n",
    "        self.b = 1.0     # 절편을 초기화합니다\n",
    "        self.rate = 0.01\n",
    "        \n",
    "    def forpass(self, x):\n",
    "        z = x * self.w + self.b       # 직선 방정식을 계산합니다\n",
    "        return z\n",
    "    \n",
    "    def backprop(self, x, err):\n",
    "        w_grad = x * err    # 가중치에 대한 그래디언트를 계산합니다\n",
    "        b_grad = 1 * err    # 절편에 대한 그래디언트를 계산합니다\n",
    "        return w_grad, b_grad\n",
    "\n",
    "    def activation(self, z):\n",
    "#         a = z; 시그모이드 안태우고 이렇게 a를 리턴하면 기존의 리니어와 동일\n",
    "        a = 1/(1+np.exp(-z))\n",
    "        return a\n",
    "    \n",
    "    def fit(self, x, y, epochs=200):\n",
    "        for i in range(epochs):           # 에포크만큼 반복합니다\n",
    "            for x_i, y_i in zip(x, y):    # 모든 샘플에 대해 반복합니다\n",
    "                z = self.forpass(x_i) # 정방향 계산\n",
    "                a = self.activation(z)\n",
    "                err = a - y_i      # 오차 계산\n",
    "                w_grad, b_grad = self.backprop(x_i, err)  # 역방향 계산\n",
    "                self.w -= self.rate*w_grad          # 가중치 업데이트\n",
    "                self.b -= self.rate*b_grad          # 절편 업데이트\n",
    "\n",
    "# x = np.array([1,2,3,4,5,6,7,8])\n",
    "# y = np.array([0,0,0,0,1,1,1,1])\n",
    "x = np.array([1,2,3,4,5,6,7,8,12])\n",
    "y = np.array([0,0,0,0,1,1,1,1,1])                \n",
    "\n",
    "neuron = Neuron()\n",
    "neuron.fit(x, y)\n",
    "\n",
    "for xi, yi in zip(x,y):\n",
    "    plt.plot(xi,yi,\"rx\")\n",
    "\n",
    "for x_i in x:\n",
    "    y_hat = neuron.forpass(x_i)\n",
    "    a = neuron.activation(y_hat)\n",
    "    if( a >= 0.5 ):\n",
    "        print(\"%d : 악성종양\"%x_i)\n",
    "    else:\n",
    "        print(\"%d : 양성종양\"%x_i)\n",
    "    y_temp.append(a)\n",
    "\n",
    "x = np.arange(0,x[-1],0.1)\n",
    "y_temp = []\n",
    "  \n",
    "for i, x_i in enumerate(x):\n",
    "    y_hat = neuron.forpass(x_i)\n",
    "    a = neuron.activation(y_hat)\n",
    "    y_temp.append(a)    \n",
    "    \n",
    "plt.plot(x,y_temp)\n",
    "plt.show()"
   ]
  },
  {
   "cell_type": "code",
   "execution_count": 11,
   "metadata": {},
   "outputs": [
    {
     "name": "stdout",
     "output_type": "stream",
     "text": [
      "1 : 양성종양\n",
      "2 : 양성종양\n",
      "3 : 양성종양\n",
      "4 : 양성종양\n",
      "5 : 악성종양\n",
      "6 : 악성종양\n",
      "7 : 악성종양\n",
      "8 : 악성종양\n",
      "12 : 악성종양\n"
     ]
    },
    {
     "data": {
      "image/png": "[encoded data removed]",
      "text/plain": [
       "<Figure size 432x288 with 1 Axes>"
      ]
     },
     "metadata": {
      "needs_background": "light"
     },
     "output_type": "display_data"
    }
   ],
   "source": [
    "import matplotlib.pyplot as  plt\n",
    "import numpy as np\n",
    "\n",
    "class Neuron:\n",
    "    \n",
    "    def __init__(self):\n",
    "        self.w = 1.0     # 가중치를 초기화합니다\n",
    "        self.b = 1.0     # 절편을 초기화합니다\n",
    "        self.rate = 0.01\n",
    "    \n",
    "    def forpass(self, x):\n",
    "        z = x * self.w + self.b       # 직선 방정식을 계산합니다\n",
    "        return z\n",
    "    \n",
    "    def backprop(self, x, err):\n",
    "        w_grad = x * err    # 가중치에 대한 그래디언트를 계산합니다\n",
    "        b_grad = 1 * err    # 절편에 대한 그래디언트를 계산합니다\n",
    "        return w_grad, b_grad\n",
    "\n",
    "    def activation(self, z):\n",
    "#         a = z;\n",
    "        a = 1/(1+np.exp(-z))\n",
    "        return a\n",
    "    \n",
    "    def fit(self, x, y, epochs=200):\n",
    "        for i in range(epochs):           # 에포크만큼 반복합니다\n",
    "            for x_i, y_i in zip(x, y):    # 모든 샘플에 대해 반복합니다\n",
    "                z = self.forpass(x_i) # 정방향 계산\n",
    "                a = self.activation(z)\n",
    "                err = y_i - a      # 오차 계산\n",
    "                w_grad, b_grad = self.backprop(x_i, err)  # 역방향 계산\n",
    "                self.w += self.rate*w_grad          # 가중치 업데이트\n",
    "                self.b += self.rate*b_grad          # 절편 업데이트\n",
    "\n",
    "# x = np.array([1,2,3,4,5,6,7,8])\n",
    "# y = np.array([0,0,0,0,1,1,1,1])\n",
    "x = np.array([1,2,3,4,5,6,7,8,12])\n",
    "y = np.array([0,0,0,0,1,1,1,1,1])                \n",
    "\n",
    "neuron = Neuron()\n",
    "neuron.fit(x, y, 1000)\n",
    "\n",
    "for xi, yi in zip(x,y):\n",
    "    plt.plot(xi,yi,\"rx\")\n",
    "\n",
    "for x_i in x:\n",
    "    y_hat = neuron.forpass(x_i)\n",
    "    a = neuron.activation(y_hat)\n",
    "    if( a >= 0.5 ):\n",
    "        print(\"%d : 악성종양\"%x_i)\n",
    "    else:\n",
    "        print(\"%d : 양성종양\"%x_i)\n",
    "    y_temp.append(a)\n",
    "\n",
    "x = np.arange(0,x[-1],0.1)\n",
    "y_temp = []\n",
    "  \n",
    "for i, x_i in enumerate(x):\n",
    "    y_hat = neuron.forpass(x_i)\n",
    "    a = neuron.activation(y_hat)\n",
    "    y_temp.append(a)    \n",
    "    \n",
    "plt.plot(x,y_temp)\n",
    "plt.show()"
   ]
  },
  {
   "cell_type": "code",
   "execution_count": 10,
   "metadata": {},
   "outputs": [
    {
     "name": "stdout",
     "output_type": "stream",
     "text": [
      "1 : 양성종양\n",
      "2 : 양성종양\n",
      "3 : 양성종양\n",
      "4 : 양성종양\n",
      "5 : 악성종양\n",
      "6 : 악성종양\n",
      "7 : 악성종양\n",
      "8 : 악성종양\n",
      "12 : 악성종양\n"
     ]
    },
    {
     "data": {
      "image/png": "[encoded data removed]",
      "text/plain": [
       "<Figure size 432x288 with 1 Axes>"
      ]
     },
     "metadata": {
      "needs_background": "light"
     },
     "output_type": "display_data"
    }
   ],
   "source": [
    "import matplotlib.pyplot as  plt\n",
    "import numpy as np\n",
    "\n",
    "class Neuron:\n",
    "    \n",
    "    def __init__(self):\n",
    "        self.w = 1.0     # 가중치를 초기화합니다\n",
    "        self.b = 1.0     # 절편을 초기화합니다\n",
    "    \n",
    "    def forpass(self, x):\n",
    "        z = x * self.w + self.b       # 직선 방정식을 계산합니다\n",
    "        return z\n",
    "    \n",
    "    def backprop(self, x, err):\n",
    "        w_grad = x * err    # 가중치에 대한 그래디언트를 계산합니다\n",
    "        b_grad = 1 * err    # 절편에 대한 그래디언트를 계산합니다\n",
    "        return w_grad, b_grad\n",
    "\n",
    "    def activation(self, z):\n",
    "#         a = z;\n",
    "        a = 1/(1+np.exp(-z))\n",
    "        return a\n",
    "    \n",
    "    def fit(self, x, y, epochs=200):\n",
    "        for i in range(epochs):           # 에포크만큼 반복합니다\n",
    "            for x_i, y_i in zip(x, y):    # 모든 샘플에 대해 반복합니다\n",
    "                z = self.forpass(x_i) # 정방향 계산\n",
    "                a = self.activation(z)\n",
    "                err = y_i - a      # 오차 계산\n",
    "                w_grad, b_grad = self.backprop(x_i, err)  # 역방향 계산\n",
    "                self.w += 0.1*w_grad          # 가중치 업데이트\n",
    "                self.b += 0.1*b_grad          # 절편 업데이트\n",
    "\n",
    "# x = np.array([1,2,3,4,5,6,7,8])\n",
    "# y = np.array([0,0,0,0,1,1,1,1])\n",
    "x = np.array([1,2,3,4,5,6,7,8,12])\n",
    "y = np.array([0,0,0,0,1,1,1,1,1])                \n",
    "\n",
    "neuron = Neuron()\n",
    "neuron.fit(x, y)\n",
    "\n",
    "for xi, yi in zip(x,y):\n",
    "    plt.plot(xi,yi,\"rx\")\n",
    "\n",
    "for x_i in x:\n",
    "    y_hat = neuron.forpass(x_i)\n",
    "    a = neuron.activation(y_hat)\n",
    "    if( a >= 0.5 ):\n",
    "        print(\"%d : 악성종양\"%x_i)\n",
    "    else:\n",
    "        print(\"%d : 양성종양\"%x_i)\n",
    "    y_temp.append(a)\n",
    "\n",
    "x = np.arange(0,x[-1],0.1)\n",
    "y_temp = []\n",
    "  \n",
    "for i, x_i in enumerate(x):\n",
    "    y_hat = neuron.forpass(x_i)\n",
    "    a = neuron.activation(y_hat)\n",
    "    y_temp.append(a)    \n",
    "    \n",
    "plt.plot(x,y_temp)\n",
    "plt.show()"
   ]
  },
  {
   "cell_type": "code",
   "execution_count": 32,
   "metadata": {},
   "outputs": [
    {
     "name": "stdout",
     "output_type": "stream",
     "text": [
      "(569, 30) (569,)\n"
     ]
    }
   ],
   "source": [
    "from sklearn.datasets import load_breast_cancer\n",
    "cancer = load_breast_cancer()\n",
    "print(cancer.data.shape, cancer.target.shape)"
   ]
  },
  {
   "cell_type": "code",
   "execution_count": 33,
   "metadata": {},
   "outputs": [
    {
     "data": {
      "text/plain": [
       "array([[1.799e+01, 1.038e+01, 1.228e+02, 1.001e+03, 1.184e-01, 2.776e-01,\n",
       "        3.001e-01, 1.471e-01, 2.419e-01, 7.871e-02, 1.095e+00, 9.053e-01,\n",
       "        8.589e+00, 1.534e+02, 6.399e-03, 4.904e-02, 5.373e-02, 1.587e-02,\n",
       "        3.003e-02, 6.193e-03, 2.538e+01, 1.733e+01, 1.846e+02, 2.019e+03,\n",
       "        1.622e-01, 6.656e-01, 7.119e-01, 2.654e-01, 4.601e-01, 1.189e-01],\n",
       "       [2.057e+01, 1.777e+01, 1.329e+02, 1.326e+03, 8.474e-02, 7.864e-02,\n",
       "        8.690e-02, 7.017e-02, 1.812e-01, 5.667e-02, 5.435e-01, 7.339e-01,\n",
       "        3.398e+00, 7.408e+01, 5.225e-03, 1.308e-02, 1.860e-02, 1.340e-02,\n",
       "        1.389e-02, 3.532e-03, 2.499e+01, 2.341e+01, 1.588e+02, 1.956e+03,\n",
       "        1.238e-01, 1.866e-01, 2.416e-01, 1.860e-01, 2.750e-01, 8.902e-02],\n",
       "       [1.969e+01, 2.125e+01, 1.300e+02, 1.203e+03, 1.096e-01, 1.599e-01,\n",
       "        1.974e-01, 1.279e-01, 2.069e-01, 5.999e-02, 7.456e-01, 7.869e-01,\n",
       "        4.585e+00, 9.403e+01, 6.150e-03, 4.006e-02, 3.832e-02, 2.058e-02,\n",
       "        2.250e-02, 4.571e-03, 2.357e+01, 2.553e+01, 1.525e+02, 1.709e+03,\n",
       "        1.444e-01, 4.245e-01, 4.504e-01, 2.430e-01, 3.613e-01, 8.758e-02]])"
      ]
     },
     "execution_count": 33,
     "metadata": {},
     "output_type": "execute_result"
    }
   ],
   "source": [
    "cancer.data[:3]"
   ]
  },
  {
   "cell_type": "code",
   "execution_count": 34,
   "metadata": {},
   "outputs": [
    {
     "data": {
      "image/png": "[encoded data removed]",
      "text/plain": [
       "<Figure size 432x288 with 1 Axes>"
      ]
     },
     "metadata": {
      "needs_background": "light"
     },
     "output_type": "display_data"
    }
   ],
   "source": [
    "plt.boxplot(cancer.data)\n",
    "plt.xlabel('feature')\n",
    "plt.ylabel('value')\n",
    "plt.show()"
   ]
  },
  {
   "cell_type": "code",
   "execution_count": 35,
   "metadata": {},
   "outputs": [
    {
     "data": {
      "text/plain": [
       "array(['mean area', 'worst area'], dtype='<U23')"
      ]
     },
     "execution_count": 35,
     "metadata": {},
     "output_type": "execute_result"
    }
   ],
   "source": [
    "cancer.feature_names[[3,23]]"
   ]
  },
  {
   "cell_type": "code",
   "execution_count": 36,
   "metadata": {},
   "outputs": [
    {
     "data": {
      "text/plain": [
       "(array([0, 1]), array([212, 357], dtype=int64))"
      ]
     },
     "execution_count": 36,
     "metadata": {},
     "output_type": "execute_result"
    }
   ],
   "source": [
    "np.unique(cancer.target, return_counts=True)"
   ]
  },
  {
   "cell_type": "code",
   "execution_count": 37,
   "metadata": {},
   "outputs": [],
   "source": [
    "x = cancer.data\n",
    "#print(x.shape)\n",
    "y = cancer.target\n",
    "#print(y.ndim)"
   ]
  },
  {
   "cell_type": "code",
   "execution_count": 38,
   "metadata": {},
   "outputs": [],
   "source": [
    "from sklearn.model_selection import train_test_split"
   ]
  },
  {
   "cell_type": "code",
   "execution_count": 39,
   "metadata": {},
   "outputs": [],
   "source": [
    "x_train, x_test, y_train, y_test = train_test_split(x, y, stratify=y, \n",
    "                                                    test_size=0.2, random_state=42)"
   ]
  },
  {
   "cell_type": "code",
   "execution_count": 40,
   "metadata": {},
   "outputs": [
    {
     "name": "stdout",
     "output_type": "stream",
     "text": [
      "(455, 30) (114, 30)\n"
     ]
    }
   ],
   "source": [
    "print(x_train.shape, x_test.shape)"
   ]
  },
  {
   "cell_type": "code",
   "execution_count": 41,
   "metadata": {},
   "outputs": [
    {
     "data": {
      "text/plain": [
       "(array([0, 1]), array([170, 285], dtype=int64))"
      ]
     },
     "execution_count": 41,
     "metadata": {},
     "output_type": "execute_result"
    }
   ],
   "source": [
    "np.unique(y_train, return_counts=True)"
   ]
  },
  {
   "cell_type": "code",
   "execution_count": 42,
   "metadata": {},
   "outputs": [
    {
     "name": "stdout",
     "output_type": "stream",
     "text": [
      "30\n",
      "[1. 1. 1. 1. 1. 1. 1. 1. 1. 1. 1. 1. 1. 1. 1. 1. 1. 1. 1. 1. 1. 1. 1. 1.\n",
      " 1. 1. 1. 1. 1. 1.]\n",
      "[[0. 0. 0.]\n",
      " [0. 0. 0.]]\n",
      "[[7 7 7]\n",
      " [7 7 7]]\n"
     ]
    }
   ],
   "source": [
    "print(x.shape[1])\n",
    "w=np.ones(x.shape[1])\n",
    "print(w)\n",
    "temp = np.zeros((2,3))\n",
    "print(temp)\n",
    "temp1 = np.full((2,3),7)\n",
    "print(temp1)"
   ]
  },
  {
   "cell_type": "code",
   "execution_count": 43,
   "metadata": {},
   "outputs": [
    {
     "name": "stdout",
     "output_type": "stream",
     "text": [
      "[4 6 8]\n",
      "[ 3  8 15]\n",
      "26\n"
     ]
    }
   ],
   "source": [
    "a = np.array([1,2,3])\n",
    "b = np.array([3,4,5])\n",
    "print(a+b) # 원소별 합\n",
    "\n",
    "print(a*b) # 원소별 곱\n",
    "\n",
    "print(np.sum(a*b))"
   ]
  },
  {
   "cell_type": "code",
   "execution_count": 44,
   "metadata": {},
   "outputs": [],
   "source": [
    "\n",
    "class LogisticNeuron:\n",
    "    \n",
    "    def __init__(self):\n",
    "        self.w = None\n",
    "        self.b = None\n",
    "\n",
    "    def forpass(self, x):\n",
    "        z = np.sum(x * self.w) + self.b  # 직선 방정식을 계산합니다\n",
    "        return z\n",
    "\n",
    "    def backprop(self, x, err):\n",
    "        w_grad = x * err    # 가중치에 대한 그래디언트를 계산합니다\n",
    "        b_grad = 1 * err    # 절편에 대한 그래디언트를 계산합니다\n",
    "        return w_grad, b_grad\n",
    "\n",
    "    def activation(self, z):\n",
    "        z = np.clip(z, -100, None) # 안전한 np.exp() 계산을 위해\n",
    "        a = 1 / (1 + np.exp(-z))  # 시그모이드 계산\n",
    "        return a\n",
    "        \n",
    "    def fit(self, x, y, epochs=100):\n",
    "        self.w = np.ones(x.shape[1])      # 가중치를 초기화합니다.\n",
    "        self.b = 0                        # 절편을 초기화합니다.\n",
    "        print(x.shape[1])\n",
    "        for i in range(epochs):           # epochs만큼 반복합니다\n",
    "            for x_i, y_i in zip(x, y):    # 모든 샘플에 대해 반복합니다\n",
    "                z = self.forpass(x_i)     # 정방향 계산\n",
    "                a = self.activation(z)    # 활성화 함수 적용\n",
    "                err = (y_i - a)          # 오차 계산\n",
    "                w_grad, b_grad = self.backprop(x_i, err) # 역방향 계산\n",
    "                self.w += w_grad          # 가중치 업데이트\n",
    "                self.b += b_grad          # 절편 업데이트\n",
    "    \n",
    "    def predict(self, x):\n",
    "        z = [self.forpass(x_i) for x_i in x]    # 정방향 계산\n",
    "        a = self.activation(np.array(z))        # 활성화 함수 적용\n",
    "        return a >= 0.5"
   ]
  },
  {
   "cell_type": "code",
   "execution_count": 45,
   "metadata": {},
   "outputs": [
    {
     "name": "stdout",
     "output_type": "stream",
     "text": [
      "30\n"
     ]
    }
   ],
   "source": [
    "neuron = LogisticNeuron()\n",
    "neuron.fit(x_train, y_train)"
   ]
  },
  {
   "cell_type": "code",
   "execution_count": 46,
   "metadata": {},
   "outputs": [
    {
     "name": "stdout",
     "output_type": "stream",
     "text": [
      "[False  True False False False False  True False False False  True False\n",
      "  True False False False False  True False  True False False  True  True\n",
      "  True False False  True  True False  True  True  True  True False  True\n",
      "  True  True False False  True  True  True False False False  True  True\n",
      "  True False  True False  True False  True  True  True False False  True\n",
      "  True  True  True  True False False False  True False  True  True  True\n",
      "  True False False False  True  True  True False False  True False  True\n",
      " False  True  True  True False False  True  True False False False  True\n",
      " False  True False False False False  True  True False False  True False\n",
      "  True False  True False  True  True]\n",
      "[ True  True  True False  True False  True  True  True  True  True  True\n",
      "  True  True  True False False  True False  True  True  True  True  True\n",
      "  True False  True  True  True False  True  True  True  True  True False\n",
      "  True  True False  True  True  True  True  True  True False  True  True\n",
      "  True  True  True False  True  True  True  True  True  True  True  True\n",
      "  True  True  True  True  True  True False  True False  True  True  True\n",
      "  True  True  True  True False  True  True False False  True  True  True\n",
      "  True  True  True  True False False  True  True  True  True  True  True\n",
      "  True  True  True False  True  True False  True  True  True  True  True\n",
      "  True  True  True  True  True  True]\n"
     ]
    }
   ],
   "source": [
    "print(neuron.predict(x_test))\n",
    "print(neuron.predict(x_test)== y_test)\n"
   ]
  },
  {
   "cell_type": "code",
   "execution_count": 47,
   "metadata": {},
   "outputs": [
    {
     "data": {
      "text/plain": [
       "0.8245614035087719"
      ]
     },
     "execution_count": 47,
     "metadata": {},
     "output_type": "execute_result"
    }
   ],
   "source": [
    "np.mean(neuron.predict(x_test) == y_test)"
   ]
  },
  {
   "cell_type": "code",
   "execution_count": null,
   "metadata": {},
   "outputs": [],
   "source": []
  }
 ],
 "metadata": {
  "kernelspec": {
   "display_name": "Python 3",
   "language": "python",
   "name": "python3"
  },
  "language_info": {
   "codemirror_mode": {
    "name": "ipython",
    "version": 3
   },
   "file_extension": ".py",
   "mimetype": "text/x-python",
   "name": "python",
   "nbconvert_exporter": "python",
   "pygments_lexer": "ipython3",
   "version": "3.7.6"
  }
 },
 "nbformat": 4,
 "nbformat_minor": 4
}
