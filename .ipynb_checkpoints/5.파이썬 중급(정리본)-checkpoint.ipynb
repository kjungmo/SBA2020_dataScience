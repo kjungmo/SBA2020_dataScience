{
 "cells": [
  {
   "cell_type": "markdown",
   "metadata": {},
   "source": [
    "# 함수의 의미"
   ]
  },
  {
   "cell_type": "code",
   "execution_count": 1,
   "metadata": {},
   "outputs": [
    {
     "name": "stdout",
     "output_type": "stream",
     "text": [
      "7\n"
     ]
    }
   ],
   "source": [
    "def add(x, y):\n",
    "    return x+y\n",
    "\n",
    "a = add(3,4)\n",
    "print(a)"
   ]
  },
  {
   "cell_type": "code",
   "execution_count": 4,
   "metadata": {},
   "outputs": [
    {
     "name": "stdout",
     "output_type": "stream",
     "text": [
      "<class 'function'>\n"
     ]
    }
   ],
   "source": [
    "print(type(add))"
   ]
  },
  {
   "cell_type": "markdown",
   "metadata": {},
   "source": [
    "함수의 타입을 찍어봤다"
   ]
  },
  {
   "cell_type": "code",
   "execution_count": 3,
   "metadata": {},
   "outputs": [
    {
     "name": "stdout",
     "output_type": "stream",
     "text": [
      "<function add at 0x0000016578201048>\n"
     ]
    }
   ],
   "source": [
    "print(add)"
   ]
  },
  {
   "cell_type": "markdown",
   "metadata": {},
   "source": [
    "함수가 구현된 번지가 나타난다"
   ]
  },
  {
   "cell_type": "code",
   "execution_count": 6,
   "metadata": {},
   "outputs": [],
   "source": [
    "import sys"
   ]
  },
  {
   "cell_type": "code",
   "execution_count": 7,
   "metadata": {},
   "outputs": [
    {
     "data": {
      "text/plain": [
       "2"
      ]
     },
     "execution_count": 7,
     "metadata": {},
     "output_type": "execute_result"
    }
   ],
   "source": [
    "sys.getrefcount(add)"
   ]
  },
  {
   "cell_type": "markdown",
   "metadata": {},
   "source": [
    "함수를 가리키는 레퍼런스의 개수를 나타낸다.\n",
    "함수가 어딘가에 포함되어 있다. \n",
    "\n",
    "어딘가에 코드를 포인팅 하는 것으로 볼 수 있다. (함수라는 존재 자체가)\n",
    "add라고 하는 녀석이 함수의 객체의 이름이다. 함수의 인스턴스를 가르키는 레퍼런스라고 보면 된다. add는 한마리인 function을 가리킨다. \n",
    "\n",
    "function에는 refs라는 카운팅이 있어서 add가 function가리키면 1을 나타내며 시스템 상에서 뭔가가 function을 가리키고 있어서 최종 2가 나온다.\n",
    "\n",
    "이렇게 나오는 것을 증가시킬 수 있는가?\n"
   ]
  },
  {
   "cell_type": "code",
   "execution_count": 10,
   "metadata": {},
   "outputs": [
    {
     "data": {
      "text/plain": [
       "3"
      ]
     },
     "execution_count": 10,
     "metadata": {},
     "output_type": "execute_result"
    }
   ],
   "source": [
    "add1 = add\n",
    "\n",
    "# 함수의 이름으로 다른데에다 넣을 수 있다\n",
    "# 레퍼런스 카운트가 증분하게 된다\n",
    "\n",
    "sys.getrefcount(add)"
   ]
  },
  {
   "cell_type": "markdown",
   "metadata": {},
   "source": [
    "이전에 2였다가 시스템 내부적으로 하나가 늘어나서 3이된다. 같은 함수를 가리키는 포인터(ref)가 증분됨\n",
    "\n",
    "함수를 또 하나 만드는 것이 아니다!\n",
    "\n",
    "기존 코드 호출 하는 식으로 해도 함수는 동일하게 작동한다.\n",
    "함수 이름을 다른 변수에 옮길 수 있다는 말이다. \n",
    "\n",
    "연결을 끊는다는 것은(변수를 지우는 꼴)\n"
   ]
  },
  {
   "cell_type": "code",
   "execution_count": 11,
   "metadata": {},
   "outputs": [
    {
     "data": {
      "text/plain": [
       "2"
      ]
     },
     "execution_count": 11,
     "metadata": {},
     "output_type": "execute_result"
    }
   ],
   "source": [
    "del add1 \n",
    "sys.getrefcount(add)"
   ]
  },
  {
   "cell_type": "markdown",
   "metadata": {},
   "source": [
    "메모리에서 날아가는 꼴이 되어 지워진다. 지워지면 연결이 끊어졌다고 볼 수 있고 refcount가 감소한다.\n",
    "\n",
    "refcount 가 0이 되면 지워진다. \n",
    "\n",
    "우리프로그램이 끝나면 다 없어지긴 한다. \n",
    "\n",
    "강제로 지우는 것은 del\n",
    "\n",
    "함수도 객체라는 사실!\n",
    "\n",
    "ref가 0이되면 자연소멸하므로 파이썬에서는 신경쓰지 않아도 된다!\n",
    "\n",
    "사실 파이썬은 많은것이 객체이다...."
   ]
  },
  {
   "cell_type": "markdown",
   "metadata": {},
   "source": [
    "### 함수 default parameter의 주의사항"
   ]
  },
  {
   "cell_type": "code",
   "execution_count": 12,
   "metadata": {},
   "outputs": [
    {
     "data": {
      "text/plain": [
       "10"
      ]
     },
     "execution_count": 12,
     "metadata": {},
     "output_type": "execute_result"
    }
   ],
   "source": [
    "a = 10\n",
    "def foo(x = a):\n",
    "    return x\n",
    "\n",
    "foo()"
   ]
  },
  {
   "cell_type": "markdown",
   "metadata": {},
   "source": [
    "인자를 주지 않으면 default parameter가 출력된다."
   ]
  },
  {
   "cell_type": "code",
   "execution_count": 13,
   "metadata": {},
   "outputs": [
    {
     "data": {
      "text/plain": [
       "10"
      ]
     },
     "execution_count": 13,
     "metadata": {},
     "output_type": "execute_result"
    }
   ],
   "source": [
    "a = 10\n",
    "def foo(x = a):\n",
    "    return x\n",
    "a = 5\n",
    "foo()"
   ]
  },
  {
   "cell_type": "markdown",
   "metadata": {},
   "source": [
    "전역변수가 바뀌어도 호출 전과 다르게 나올까?\n",
    "\n",
    "호출시 결정되는 것이 아니라\n",
    "정의할 때 디폴트파라메터는 정의된다!\n",
    "\n",
    "### 디폴트 파라메터는 함수 정의시 결정된다."
   ]
  },
  {
   "cell_type": "code",
   "execution_count": 14,
   "metadata": {},
   "outputs": [
    {
     "data": {
      "text/plain": [
       "[1]"
      ]
     },
     "execution_count": 14,
     "metadata": {},
     "output_type": "execute_result"
    }
   ],
   "source": [
    "def foo(x, items = []):\n",
    "    items.append(x)\n",
    "    return items\n",
    "\n",
    "foo(1)"
   ]
  },
  {
   "cell_type": "code",
   "execution_count": 15,
   "metadata": {},
   "outputs": [
    {
     "data": {
      "text/plain": [
       "[1, 2]"
      ]
     },
     "execution_count": 15,
     "metadata": {},
     "output_type": "execute_result"
    }
   ],
   "source": [
    "foo(2)"
   ]
  },
  {
   "cell_type": "markdown",
   "metadata": {},
   "source": [
    "빈리스트에 2 추가되면 2가 나와야 하지만\n",
    "리스트가 언제 결정 되냐면 호출시 결정 됏다면\n",
    "매번 빈 리스트가 문제되지 않는데\n",
    "정의시 리스트 됐기 때문에 정의시 빈리스트가 됏다면\n",
    "다시는 빈리스트가 되는 것이 아니다.\n",
    "함수 정의시 엠티리스트가 결정되고\n",
    "호출 시에는 남는다. \n",
    "계속 이용이 되기 때문에 1, 2가 나오는 것이다\n",
    "\n",
    "\n",
    "#### 디폴트 파라메타의 리스트는 함수 정의시에 결정된다. \n",
    "호출을 아무리 많이 해도 호출할 때마다 결정되는 것이 아니라 \n",
    "이미 하나 결정되면 이 리스트에 추가 추가 된단 말이다. \n",
    "이렇게 짜면 안되고"
   ]
  },
  {
   "cell_type": "code",
   "execution_count": 18,
   "metadata": {},
   "outputs": [
    {
     "data": {
      "text/plain": [
       "[1]"
      ]
     },
     "execution_count": 18,
     "metadata": {},
     "output_type": "execute_result"
    }
   ],
   "source": [
    "def foo(x, items = None): # 이렇게 아무런 타입이 없는 것으로 정의해줘야 한다\n",
    "    if items is None:\n",
    "        items = []\n",
    "    items.append(x)\n",
    "    return items\n",
    "\n",
    "foo(1)"
   ]
  },
  {
   "cell_type": "code",
   "execution_count": 19,
   "metadata": {},
   "outputs": [
    {
     "data": {
      "text/plain": [
       "[2]"
      ]
     },
     "execution_count": 19,
     "metadata": {},
     "output_type": "execute_result"
    }
   ],
   "source": [
    "foo(2)"
   ]
  },
  {
   "cell_type": "markdown",
   "metadata": {},
   "source": [
    "함수가 지역성을 갖게 하려면 바로 위 처럼 작성해야 한다.\n",
    "\n",
    "정의시에 디폴트 파라메터가 정의되기 때문에 우리의 생각과 출력이 다르게 나왔다라는 점"
   ]
  },
  {
   "cell_type": "markdown",
   "metadata": {},
   "source": [
    "# 가변 인자"
   ]
  },
  {
   "cell_type": "code",
   "execution_count": 20,
   "metadata": {},
   "outputs": [],
   "source": [
    "def fprintf(file, fmt, *args):\n",
    "    file.write(fmt % args )"
   ]
  },
  {
   "cell_type": "code",
   "execution_count": 21,
   "metadata": {},
   "outputs": [
    {
     "name": "stdout",
     "output_type": "stream",
     "text": [
      "42 hello 3.140000"
     ]
    }
   ],
   "source": [
    "fprintf(sys.stdout, \"%d %s %f\", 42, \"hello\", 3.14)"
   ]
  },
  {
   "cell_type": "markdown",
   "metadata": {},
   "source": [
    "인자는 많은데 순번대로 파일로 넘어가는 것이다. 나머지 전체는 args로 넘어가는 것이다. 인자가 하나, 둘, 세개가 와도 받아준 것을 인자를 똑같이 슨 것과 같이 나온다\n",
    "\n",
    "가변인자를 쓰면 ~\n",
    "\n",
    "포메팅은 인자가 하난데 받으면 되지만, 뒤의 인자는 arguments가 여러개 올 수 있기 때문에 \\*args라고 사용하면 다 받아줘라 라는 뜻으로 사용가능하다\n",
    "\n",
    "\n",
    "# <span style=\"color : red\" >모르겠습니다 </span>"
   ]
  },
  {
   "cell_type": "code",
   "execution_count": 32,
   "metadata": {},
   "outputs": [],
   "source": [
    "def printf( fmt, *args):\n",
    "    fprintf(sys.stdout,fmt,  *args )"
   ]
  },
  {
   "cell_type": "code",
   "execution_count": 33,
   "metadata": {},
   "outputs": [
    {
     "name": "stdout",
     "output_type": "stream",
     "text": [
      "42 hello 3.140000"
     ]
    }
   ],
   "source": [
    "printf( \"%d %s %f\", 42, \"hello\", 3.14)"
   ]
  },
  {
   "cell_type": "markdown",
   "metadata": {},
   "source": [
    "다양한 함수를 사용할 수 있다\n",
    "언패킹 하는 것이다"
   ]
  },
  {
   "cell_type": "markdown",
   "metadata": {},
   "source": [
    "# 키워드 인수"
   ]
  },
  {
   "cell_type": "markdown",
   "metadata": {},
   "source": [
    "인자를 키워드로 지정해서 넘기는 방법이다"
   ]
  },
  {
   "cell_type": "code",
   "execution_count": 35,
   "metadata": {},
   "outputs": [],
   "source": [
    "def foo(x, w, y, z):\n",
    "    print(x, w, y, z)"
   ]
  },
  {
   "cell_type": "code",
   "execution_count": 36,
   "metadata": {},
   "outputs": [
    {
     "name": "stdout",
     "output_type": "stream",
     "text": [
      "1 2 3 4\n"
     ]
    }
   ],
   "source": [
    "foo(1, 2,3, 4,)"
   ]
  },
  {
   "cell_type": "markdown",
   "metadata": {},
   "source": [
    "이렇게 넘기는게 디폴트이긴 하나"
   ]
  },
  {
   "cell_type": "code",
   "execution_count": 39,
   "metadata": {},
   "outputs": [
    {
     "name": "stdout",
     "output_type": "stream",
     "text": [
      "hello 3 [1, 2] 3.14\n"
     ]
    }
   ],
   "source": [
    "foo('hello', 3, [1,2], 3.14)"
   ]
  },
  {
   "cell_type": "code",
   "execution_count": 40,
   "metadata": {},
   "outputs": [
    {
     "name": "stdout",
     "output_type": "stream",
     "text": [
      "hello 3 3.14 [1, 2]\n"
     ]
    }
   ],
   "source": [
    "foo('hello', 3, z=[1,2], y=3.14)"
   ]
  },
  {
   "cell_type": "markdown",
   "metadata": {},
   "source": [
    "지칭해서 넣으면 이렇게 순서가 바뀐다"
   ]
  },
  {
   "cell_type": "markdown",
   "metadata": {},
   "source": [
    "이때 주의 사항은 위치 변수를 override할 수 없다는 것이 주의사항이다\n",
    "\n",
    "\n",
    "이미 들어간 3에 대해 w라고 리스트 바꿔 쓸 순 없다.\n",
    "한번 넣은 것을 또 넣는 것은 안된다. 이미 위의 위치 인자와 겹치지 않게 넣으면 된다는 말이다\n",
    "\n",
    "\n",
    "항상 포지셔닝 변수가 우선한다. (위치 변수)"
   ]
  },
  {
   "cell_type": "code",
   "execution_count": 42,
   "metadata": {},
   "outputs": [
    {
     "ename": "TypeError",
     "evalue": "foo() got multiple values for argument 'w'",
     "output_type": "error",
     "traceback": [
      "\u001b[1;31m---------------------------------------------------------------------------\u001b[0m",
      "\u001b[1;31mTypeError\u001b[0m                                 Traceback (most recent call last)",
      "\u001b[1;32m<ipython-input-42-620d1d10d902>\u001b[0m in \u001b[0;36m<module>\u001b[1;34m\u001b[0m\n\u001b[1;32m----> 1\u001b[1;33m \u001b[0mfoo\u001b[0m\u001b[1;33m(\u001b[0m\u001b[1;34m'hello'\u001b[0m\u001b[1;33m,\u001b[0m \u001b[1;36m3\u001b[0m\u001b[1;33m,\u001b[0m \u001b[0mw\u001b[0m\u001b[1;33m=\u001b[0m\u001b[1;33m[\u001b[0m\u001b[1;36m1\u001b[0m\u001b[1;33m,\u001b[0m\u001b[1;36m2\u001b[0m\u001b[1;33m]\u001b[0m\u001b[1;33m,\u001b[0m \u001b[0my\u001b[0m\u001b[1;33m=\u001b[0m\u001b[1;36m3.14\u001b[0m\u001b[1;33m)\u001b[0m\u001b[1;33m\u001b[0m\u001b[1;33m\u001b[0m\u001b[0m\n\u001b[0m",
      "\u001b[1;31mTypeError\u001b[0m: foo() got multiple values for argument 'w'"
     ]
    }
   ],
   "source": [
    "foo('hello', 3, w=[1,2], y=3.14)"
   ]
  },
  {
   "cell_type": "markdown",
   "metadata": {},
   "source": [
    "# 가변 키워드 인수"
   ]
  },
  {
   "cell_type": "code",
   "execution_count": 43,
   "metadata": {},
   "outputs": [],
   "source": [
    "def make_table( data, **parms):\n",
    "    print(parms)"
   ]
  },
  {
   "cell_type": "code",
   "execution_count": 45,
   "metadata": {},
   "outputs": [
    {
     "name": "stdout",
     "output_type": "stream",
     "text": [
      "{'fgcolor': 'red', 'bgcolor': 'black'}\n"
     ]
    }
   ],
   "source": [
    "make_table(1,fgcolor = \"red\", bgcolor = \"black\")"
   ]
  },
  {
   "cell_type": "markdown",
   "metadata": {},
   "source": [
    "딕셔너리 형태로 생성이 되었다.  변수이름이 키워드, 뒤의 색이 value로 넘어왔구나\n",
    "\n",
    "가변 키워드 인수는!\n",
    "\n",
    "여러개 넘길 수 있는게 가변 키워드 인수다. \n",
    "kwargs\n",
    "\n",
    "딕셔너리 이기 때문에 지우면서 뽑아낼 수 있다."
   ]
  },
  {
   "cell_type": "code",
   "execution_count": 46,
   "metadata": {},
   "outputs": [],
   "source": [
    "def make_table( data, **parms):\n",
    "    fgcolor = parms.pop(\"fgcolor\")\n",
    "    print(fgcolor)"
   ]
  },
  {
   "cell_type": "code",
   "execution_count": 47,
   "metadata": {},
   "outputs": [
    {
     "name": "stdout",
     "output_type": "stream",
     "text": [
      "red\n"
     ]
    }
   ],
   "source": [
    "make_table(1,fgcolor = \"red\", bgcolor = \"black\")"
   ]
  },
  {
   "cell_type": "markdown",
   "metadata": {},
   "source": [
    "가변 인자이기 때문에 원하는 것을 뽑아가면서 사용할 수 있다"
   ]
  },
  {
   "cell_type": "code",
   "execution_count": 52,
   "metadata": {},
   "outputs": [],
   "source": [
    "def make_table( data, **parms):\n",
    "    fgcolor = parms.pop(\"fgcolor\")\n",
    "    bgcolor = parms.pop(\"bgcolor\")\n",
    "    width = parms.pop(\"width\")\n",
    "    print(fgcolor)\n",
    "    print(bgcolor)\n",
    "    print(width)\n",
    "    if parms:\n",
    "        print(\"해당 인자는 지원되지 않습니다. : %s\"%list(parms))"
   ]
  },
  {
   "cell_type": "code",
   "execution_count": 53,
   "metadata": {},
   "outputs": [
    {
     "name": "stdout",
     "output_type": "stream",
     "text": [
      "red\n",
      "black\n",
      "400\n",
      "해당 인자는 지원되지 않습니다. : ['border', 'borderstyle']\n"
     ]
    }
   ],
   "source": [
    "make_table(1,fgcolor = \"red\", bgcolor = \"black\", border = 1, \n",
    "           borderstyle = \"grooved\", width = 400)"
   ]
  },
  {
   "cell_type": "markdown",
   "metadata": {},
   "source": [
    "키워드 가변인자는 dict형태로 넘어오기 때문에 이것이 가능한 것이다.\n",
    "이런 스타일로 짜면 된다\n",
    "가변 키워드 매개변수인 경우에!"
   ]
  },
  {
   "cell_type": "markdown",
   "metadata": {},
   "source": [
    "# 키워드 매개변수만 받는 함수"
   ]
  },
  {
   "cell_type": "code",
   "execution_count": 54,
   "metadata": {},
   "outputs": [],
   "source": [
    "def recv( maxsize, block):\n",
    "    print( maxsize, block)"
   ]
  },
  {
   "cell_type": "code",
   "execution_count": 55,
   "metadata": {},
   "outputs": [
    {
     "name": "stdout",
     "output_type": "stream",
     "text": [
      "8192 True\n"
     ]
    }
   ],
   "source": [
    "recv( 8192, True)"
   ]
  },
  {
   "cell_type": "code",
   "execution_count": 57,
   "metadata": {},
   "outputs": [],
   "source": [
    "def recv( maxsize, block = True):\n",
    "    print( maxsize, block)"
   ]
  },
  {
   "cell_type": "code",
   "execution_count": 58,
   "metadata": {},
   "outputs": [
    {
     "name": "stdout",
     "output_type": "stream",
     "text": [
      "8192 False\n"
     ]
    }
   ],
   "source": [
    "recv( 8192, False)"
   ]
  },
  {
   "cell_type": "markdown",
   "metadata": {},
   "source": [
    "그냥 false라고 하지 못하게 하고싶다. 뭘 False라고 하는 것인지 가독성이 없잖아? 그래서 block = False라고 꼭 쓰라고 강요하고 싶은 것이다\n",
    "\n",
    "유저가 가독성있게 안쓰면 구현부가 안보이는 경우 가독성 떨어지게 된다. (8192, False)는 좋지 않은 방법이란 것이다.\n",
    "\n",
    "프로그램적으로 바꾸고 싶다!\n",
    "\n"
   ]
  },
  {
   "cell_type": "code",
   "execution_count": 59,
   "metadata": {},
   "outputs": [],
   "source": [
    "def recv( maxsize, *, block = True): # * 은 가변인자라는 뜻이다\n",
    "    print( maxsize, block)"
   ]
  },
  {
   "cell_type": "code",
   "execution_count": 60,
   "metadata": {},
   "outputs": [
    {
     "ename": "TypeError",
     "evalue": "recv() takes 1 positional argument but 2 were given",
     "output_type": "error",
     "traceback": [
      "\u001b[1;31m---------------------------------------------------------------------------\u001b[0m",
      "\u001b[1;31mTypeError\u001b[0m                                 Traceback (most recent call last)",
      "\u001b[1;32m<ipython-input-60-f7f52d367f16>\u001b[0m in \u001b[0;36m<module>\u001b[1;34m\u001b[0m\n\u001b[1;32m----> 1\u001b[1;33m \u001b[0mrecv\u001b[0m\u001b[1;33m(\u001b[0m \u001b[1;36m8192\u001b[0m\u001b[1;33m,\u001b[0m \u001b[1;32mFalse\u001b[0m\u001b[1;33m)\u001b[0m\u001b[1;33m\u001b[0m\u001b[1;33m\u001b[0m\u001b[0m\n\u001b[0m",
      "\u001b[1;31mTypeError\u001b[0m: recv() takes 1 positional argument but 2 were given"
     ]
    }
   ],
   "source": [
    "recv( 8192, False)"
   ]
  },
  {
   "cell_type": "markdown",
   "metadata": {},
   "source": [
    "이렇게 에러처리 해버린다 . \\*이 False를 빨아들였다"
   ]
  },
  {
   "cell_type": "code",
   "execution_count": 62,
   "metadata": {},
   "outputs": [],
   "source": [
    "def recv( maxsize, *, block = True): # * 은 가변인자라는 뜻이다\n",
    "    print( maxsize, block)"
   ]
  },
  {
   "cell_type": "code",
   "execution_count": 63,
   "metadata": {},
   "outputs": [
    {
     "name": "stdout",
     "output_type": "stream",
     "text": [
      "8192 False\n"
     ]
    }
   ],
   "source": [
    "recv( 8192, block = False)"
   ]
  },
  {
   "cell_type": "markdown",
   "metadata": {},
   "source": [
    "키워드 매개변수를 가용하는 것이다. 별표를 써줌으로써. 별표 뒤는 키워드 인자식으로만 함수인자 넘기기를 강요할 수 있다\n",
    "\n",
    "\n",
    "그냥 써서는 초기화할 수 있는 방법이 없다. "
   ]
  },
  {
   "cell_type": "code",
   "execution_count": 68,
   "metadata": {},
   "outputs": [],
   "source": [
    "def recv( maxsize, *, block = True): # * 은 가변인자라는 뜻이다\n",
    "    '''\n",
    "        recv 함수의 사용법\n",
    "            maxsize : 버퍼의 최대 용량\n",
    "            block : 반드시 키워드 인자로 설정 요망\n",
    "        recv( maxsize, *, block = True)\n",
    "    '''\n",
    "    \n",
    "    print( maxsize, block)"
   ]
  },
  {
   "cell_type": "code",
   "execution_count": 69,
   "metadata": {
    "scrolled": true
   },
   "outputs": [
    {
     "name": "stdout",
     "output_type": "stream",
     "text": [
      "Help on function recv in module __main__:\n",
      "\n",
      "recv(maxsize, *, block=True)\n",
      "    recv 함수의 사용법\n",
      "        maxsize : 버퍼의 최대 용량\n",
      "        block : 반드시 키워드 인자로 설정 요망\n",
      "    recv( maxsize, *, block = True)\n",
      "\n"
     ]
    }
   ],
   "source": [
    "help(recv)"
   ]
  },
  {
   "cell_type": "markdown",
   "metadata": {},
   "source": [
    "이런식으로 주석을 달아서 알려줄 수 있다 "
   ]
  },
  {
   "cell_type": "code",
   "execution_count": 70,
   "metadata": {},
   "outputs": [
    {
     "name": "stdout",
     "output_type": "stream",
     "text": [
      "8192 False\n"
     ]
    }
   ],
   "source": [
    "recv( 8192, block = False)"
   ]
  },
  {
   "cell_type": "markdown",
   "metadata": {},
   "source": [
    "# 유효 범위 규칙"
   ]
  },
  {
   "cell_type": "markdown",
   "metadata": {},
   "source": [
    "함수 안의 a는 함수안의 지역변수 이기 때문에\n",
    "함수 안에서만 바뀌고\n",
    "전역변수는 안바뀐다\n"
   ]
  },
  {
   "cell_type": "code",
   "execution_count": 72,
   "metadata": {},
   "outputs": [
    {
     "name": "stdout",
     "output_type": "stream",
     "text": [
      "42\n"
     ]
    }
   ],
   "source": [
    "a = 42\n",
    "def foo():\n",
    "    a = 13\n",
    "    \n",
    "foo()\n",
    "print(a)"
   ]
  },
  {
   "cell_type": "markdown",
   "metadata": {},
   "source": [
    "전역변수를 바꾸려면 어떻게 해야 하는가?"
   ]
  },
  {
   "cell_type": "code",
   "execution_count": 74,
   "metadata": {},
   "outputs": [
    {
     "name": "stdout",
     "output_type": "stream",
     "text": [
      "13\n"
     ]
    }
   ],
   "source": [
    "a = 42\n",
    "def foo():\n",
    "    \n",
    "    global a # 초기화와 글로벌 선언은 따로 해야한다\n",
    "    a = 13\n",
    "    \n",
    "foo()\n",
    "print(a)"
   ]
  },
  {
   "cell_type": "markdown",
   "metadata": {},
   "source": [
    "전역변수 임을 global 로 알려준다"
   ]
  },
  {
   "cell_type": "markdown",
   "metadata": {},
   "source": [
    "# 함수 속 함수"
   ]
  },
  {
   "cell_type": "code",
   "execution_count": 76,
   "metadata": {},
   "outputs": [
    {
     "name": "stdout",
     "output_type": "stream",
     "text": [
      "T-minus 3\n",
      "T-minus 2\n",
      "T-minus 1\n"
     ]
    }
   ],
   "source": [
    "def countdown(start):\n",
    "    n = start\n",
    "    def display():\n",
    "        print(\"T-minus %d\" % n)\n",
    "    while n > 0:\n",
    "        display()\n",
    "        n -= 1\n",
    "    \n",
    "countdown(3)"
   ]
  },
  {
   "cell_type": "markdown",
   "metadata": {},
   "source": [
    "n이라는 변수를 계속 사용하기 위해 함수 안에 함수를 구현한다.\n",
    "파이썬에서는 이 기능을 지원하고 있다.\n",
    "\n",
    "내부구조로 함수안의 함수는 클로저라고 한다. "
   ]
  },
  {
   "cell_type": "code",
   "execution_count": 80,
   "metadata": {},
   "outputs": [
    {
     "name": "stdout",
     "output_type": "stream",
     "text": [
      "T-minus 3\n"
     ]
    },
    {
     "ename": "UnboundLocalError",
     "evalue": "local variable 'n' referenced before assignment",
     "output_type": "error",
     "traceback": [
      "\u001b[1;31m---------------------------------------------------------------------------\u001b[0m",
      "\u001b[1;31mUnboundLocalError\u001b[0m                         Traceback (most recent call last)",
      "\u001b[1;32m<ipython-input-80-c20a44a252be>\u001b[0m in \u001b[0;36m<module>\u001b[1;34m\u001b[0m\n\u001b[0;32m      9\u001b[0m         \u001b[0mdecrement\u001b[0m\u001b[1;33m(\u001b[0m\u001b[1;33m)\u001b[0m\u001b[1;33m\u001b[0m\u001b[1;33m\u001b[0m\u001b[0m\n\u001b[0;32m     10\u001b[0m \u001b[1;33m\u001b[0m\u001b[0m\n\u001b[1;32m---> 11\u001b[1;33m \u001b[0mcountdown\u001b[0m\u001b[1;33m(\u001b[0m\u001b[1;36m3\u001b[0m\u001b[1;33m)\u001b[0m\u001b[1;33m\u001b[0m\u001b[1;33m\u001b[0m\u001b[0m\n\u001b[0m",
      "\u001b[1;32m<ipython-input-80-c20a44a252be>\u001b[0m in \u001b[0;36mcountdown\u001b[1;34m(start)\u001b[0m\n\u001b[0;32m      7\u001b[0m     \u001b[1;32mwhile\u001b[0m \u001b[0mn\u001b[0m \u001b[1;33m>\u001b[0m \u001b[1;36m0\u001b[0m\u001b[1;33m:\u001b[0m\u001b[1;33m\u001b[0m\u001b[1;33m\u001b[0m\u001b[0m\n\u001b[0;32m      8\u001b[0m         \u001b[0mdisplay\u001b[0m\u001b[1;33m(\u001b[0m\u001b[1;33m)\u001b[0m\u001b[1;33m\u001b[0m\u001b[1;33m\u001b[0m\u001b[0m\n\u001b[1;32m----> 9\u001b[1;33m         \u001b[0mdecrement\u001b[0m\u001b[1;33m(\u001b[0m\u001b[1;33m)\u001b[0m\u001b[1;33m\u001b[0m\u001b[1;33m\u001b[0m\u001b[0m\n\u001b[0m\u001b[0;32m     10\u001b[0m \u001b[1;33m\u001b[0m\u001b[0m\n\u001b[0;32m     11\u001b[0m \u001b[0mcountdown\u001b[0m\u001b[1;33m(\u001b[0m\u001b[1;36m3\u001b[0m\u001b[1;33m)\u001b[0m\u001b[1;33m\u001b[0m\u001b[1;33m\u001b[0m\u001b[0m\n",
      "\u001b[1;32m<ipython-input-80-c20a44a252be>\u001b[0m in \u001b[0;36mdecrement\u001b[1;34m()\u001b[0m\n\u001b[0;32m      4\u001b[0m         \u001b[0mprint\u001b[0m\u001b[1;33m(\u001b[0m\u001b[1;34m\"T-minus %d\"\u001b[0m \u001b[1;33m%\u001b[0m \u001b[0mn\u001b[0m\u001b[1;33m)\u001b[0m\u001b[1;33m\u001b[0m\u001b[1;33m\u001b[0m\u001b[0m\n\u001b[0;32m      5\u001b[0m     \u001b[1;32mdef\u001b[0m \u001b[0mdecrement\u001b[0m\u001b[1;33m(\u001b[0m\u001b[1;33m)\u001b[0m\u001b[1;33m:\u001b[0m\u001b[1;33m\u001b[0m\u001b[1;33m\u001b[0m\u001b[0m\n\u001b[1;32m----> 6\u001b[1;33m         \u001b[0mn\u001b[0m \u001b[1;33m-=\u001b[0m \u001b[1;36m1\u001b[0m\u001b[1;33m\u001b[0m\u001b[1;33m\u001b[0m\u001b[0m\n\u001b[0m\u001b[0;32m      7\u001b[0m     \u001b[1;32mwhile\u001b[0m \u001b[0mn\u001b[0m \u001b[1;33m>\u001b[0m \u001b[1;36m0\u001b[0m\u001b[1;33m:\u001b[0m\u001b[1;33m\u001b[0m\u001b[1;33m\u001b[0m\u001b[0m\n\u001b[0;32m      8\u001b[0m         \u001b[0mdisplay\u001b[0m\u001b[1;33m(\u001b[0m\u001b[1;33m)\u001b[0m\u001b[1;33m\u001b[0m\u001b[1;33m\u001b[0m\u001b[0m\n",
      "\u001b[1;31mUnboundLocalError\u001b[0m: local variable 'n' referenced before assignment"
     ]
    }
   ],
   "source": [
    "def countdown(start):\n",
    "    n = start\n",
    "    def display():\n",
    "        print(\"T-minus %d\" % n)\n",
    "    def decrement():\n",
    "        n -= 1\n",
    "    while n > 0:\n",
    "        display()\n",
    "        decrement()\n",
    "    \n",
    "countdown(3)"
   ]
  },
  {
   "cell_type": "markdown",
   "metadata": {},
   "source": [
    "n을 리딩만 한 것이고\n",
    "n을 write하려고 하면 안된다.\n",
    "기본적으로 바깥 함수의 변수는 write할 수 없다. \n",
    "read는 가능하다. \n",
    "\n",
    "영원히 안되는가? \n",
    "아니다."
   ]
  },
  {
   "cell_type": "code",
   "execution_count": 81,
   "metadata": {},
   "outputs": [
    {
     "name": "stdout",
     "output_type": "stream",
     "text": [
      "T-minus 3\n",
      "T-minus 2\n",
      "T-minus 1\n"
     ]
    }
   ],
   "source": [
    "def countdown(start):\n",
    "    n = start\n",
    "    def display():\n",
    "        print(\"T-minus %d\" % n)\n",
    "    def decrement():\n",
    "        nonlocal n\n",
    "        n -= 1\n",
    "    while n > 0:\n",
    "        display()\n",
    "        decrement()\n",
    "    \n",
    "countdown(3)"
   ]
  },
  {
   "cell_type": "markdown",
   "metadata": {},
   "source": [
    "nonlocal로 지정하면 바꿔도 된다고 인터프리터에게 알려주는 것이다.\n",
    "그래서 내부함수에서 write이 가능해진다\n",
    "\n",
    "바깥의 함수는 기본적으로 write불가\n",
    "\n",
    "write하려면 nonlocal로 선언해야 한다.\n"
   ]
  },
  {
   "cell_type": "markdown",
   "metadata": {},
   "source": [
    "# 람다"
   ]
  },
  {
   "cell_type": "code",
   "execution_count": 82,
   "metadata": {},
   "outputs": [],
   "source": [
    "def add(x, y):\n",
    "    return x+y"
   ]
  },
  {
   "cell_type": "code",
   "execution_count": null,
   "metadata": {},
   "outputs": [],
   "source": []
  },
  {
   "cell_type": "code",
   "execution_count": 83,
   "metadata": {},
   "outputs": [
    {
     "data": {
      "text/plain": [
       "7"
      ]
     },
     "execution_count": 83,
     "metadata": {},
     "output_type": "execute_result"
    }
   ],
   "source": [
    "add(3, 4)"
   ]
  },
  {
   "cell_type": "code",
   "execution_count": 84,
   "metadata": {},
   "outputs": [],
   "source": [
    "add = lambda x, y: x+y"
   ]
  },
  {
   "cell_type": "code",
   "execution_count": 85,
   "metadata": {},
   "outputs": [
    {
     "data": {
      "text/plain": [
       "9"
      ]
     },
     "execution_count": 85,
     "metadata": {},
     "output_type": "execute_result"
    }
   ],
   "source": [
    "add(4, 5)"
   ]
  },
  {
   "cell_type": "markdown",
   "metadata": {},
   "source": [
    "이렇게 이름이 없는 함수를 람다라고 한다.\n",
    "\n",
    "언제 사용하면 좋을까?"
   ]
  },
  {
   "cell_type": "code",
   "execution_count": 91,
   "metadata": {},
   "outputs": [],
   "source": [
    "a = [ (1,2), (4,1), (9, 10), (13, -3)]\n",
    "# 두번째 인자로 소팅하고 싶다"
   ]
  },
  {
   "cell_type": "code",
   "execution_count": 92,
   "metadata": {},
   "outputs": [
    {
     "name": "stdout",
     "output_type": "stream",
     "text": [
      "[(13, -3), (4, 1), (1, 2), (9, 10)]\n"
     ]
    }
   ],
   "source": [
    "a.sort( key = lambda x : x[1])\n",
    "print(a)"
   ]
  },
  {
   "cell_type": "markdown",
   "metadata": {},
   "source": [
    "컨테이너의 특정인자를 뽑아서 소팅하고 싶을 때 람다로 이렇게 사용할 수 있다"
   ]
  },
  {
   "cell_type": "code",
   "execution_count": 93,
   "metadata": {},
   "outputs": [
    {
     "name": "stdout",
     "output_type": "stream",
     "text": [
      "30\n",
      "30\n"
     ]
    }
   ],
   "source": [
    "x = 10\n",
    "a = lambda y : x + y \n",
    "x = 20 \n",
    "b = lambda y : x + y\n",
    "\n",
    "print(a(10))\n",
    "print(b(10))"
   ]
  },
  {
   "cell_type": "markdown",
   "metadata": {},
   "source": [
    "함수 내의 코드에서는 함수 정의시 고정되는 것이 아니다 디폴트 파라메터 일 때에만 정의시 고정된다.\n",
    "함수의 실제 실행되는 바디의 코드이기 때문에 x 가 10이라고 하더라도 호출 시 20으로 바뀌어있기 때문에 최신의 x가 적용된다\n",
    "\n",
    "정의 시 고정 =  default parameter만!"
   ]
  },
  {
   "cell_type": "code",
   "execution_count": 95,
   "metadata": {},
   "outputs": [
    {
     "name": "stdout",
     "output_type": "stream",
     "text": [
      "25\n"
     ]
    }
   ],
   "source": [
    "x = 15\n",
    "print(a(10))"
   ]
  },
  {
   "cell_type": "code",
   "execution_count": 96,
   "metadata": {},
   "outputs": [
    {
     "name": "stdout",
     "output_type": "stream",
     "text": [
      "13\n"
     ]
    }
   ],
   "source": [
    "x = 3\n",
    "print(a(10))"
   ]
  },
  {
   "cell_type": "markdown",
   "metadata": {},
   "source": [
    "전역변수는 람다에 대해 바뀐값이 적용된다"
   ]
  },
  {
   "cell_type": "code",
   "execution_count": 98,
   "metadata": {},
   "outputs": [
    {
     "name": "stdout",
     "output_type": "stream",
     "text": [
      "20\n",
      "30\n"
     ]
    }
   ],
   "source": [
    "x = 10\n",
    "a = lambda y, x=x : x + y \n",
    "x = 20 \n",
    "b = lambda y, x=x : x + y\n",
    "\n",
    "print(a(10))\n",
    "print(b(10))"
   ]
  },
  {
   "cell_type": "markdown",
   "metadata": {},
   "source": [
    "x가 인자로 넘어오면서 디폴트 파라메터로 설정한 경우\n",
    "전역변수 x가 인자 x로 넘어온 것이다. \n",
    "함수가 정의되는 순간에 한번 확정이 된다. \n",
    "x가 바뀐다고 하더라도 정의된 x에는 영향을 미치지 않는다. \n"
   ]
  },
  {
   "cell_type": "code",
   "execution_count": 101,
   "metadata": {},
   "outputs": [
    {
     "name": "stdout",
     "output_type": "stream",
     "text": [
      "4 4 4 4 4 "
     ]
    }
   ],
   "source": [
    "funcs = [ lambda x : x+n for n in range(5)]\n",
    "# func #람다로 이루어진 리스트 객체 가 뜬다\n",
    "for f in funcs:\n",
    "    print(f(0), end = ' ')"
   ]
  },
  {
   "cell_type": "markdown",
   "metadata": {},
   "source": [
    "f(0)일때 호출 되는데 , 4로 증분된 상태에서 찍힌다. \n",
    "\n",
    "우리가 원하는 대로 0 1 2 3 4 찍으려면?"
   ]
  },
  {
   "cell_type": "code",
   "execution_count": 103,
   "metadata": {},
   "outputs": [
    {
     "name": "stdout",
     "output_type": "stream",
     "text": [
      "0 1 2 3 4 "
     ]
    }
   ],
   "source": [
    "funcs = [ lambda x, n = n : x+n for n in range(5)]\n",
    "\n",
    "for f in funcs:\n",
    "    print(f(0), end = ' ')"
   ]
  },
  {
   "cell_type": "markdown",
   "metadata": {},
   "source": [
    "n = n 으로 두면 정의 시에 고정된다. 정의 시의 시점으로 고정하고 싶다면 default parameter에 이런식으로 넣어주면 된다. 전역변수랑 같은 개념"
   ]
  },
  {
   "cell_type": "markdown",
   "metadata": {},
   "source": [
    "# 함수 인자에 메타데이터 넣기"
   ]
  },
  {
   "cell_type": "code",
   "execution_count": 105,
   "metadata": {},
   "outputs": [],
   "source": [
    "def add(x, y):\n",
    "    return x+y"
   ]
  },
  {
   "cell_type": "code",
   "execution_count": 106,
   "metadata": {},
   "outputs": [
    {
     "ename": "SyntaxError",
     "evalue": "invalid syntax (<ipython-input-106-e68141c8970a>, line 1)",
     "output_type": "error",
     "traceback": [
      "\u001b[1;36m  File \u001b[1;32m\"<ipython-input-106-e68141c8970a>\"\u001b[1;36m, line \u001b[1;32m1\u001b[0m\n\u001b[1;33m    파이썬의 장점이자 단점은 x, y에 아무거나 넣어도 된다는 겅시다\u001b[0m\n\u001b[1;37m            ^\u001b[0m\n\u001b[1;31mSyntaxError\u001b[0m\u001b[1;31m:\u001b[0m invalid syntax\n"
     ]
    }
   ],
   "source": [
    "파이썬의 장점이자 단점은 x, y에 아무거나 넣어도 된다는 겅시다\n"
   ]
  },
  {
   "cell_type": "code",
   "execution_count": null,
   "metadata": {},
   "outputs": [],
   "source": []
  },
  {
   "cell_type": "code",
   "execution_count": null,
   "metadata": {},
   "outputs": [],
   "source": []
  },
  {
   "cell_type": "code",
   "execution_count": null,
   "metadata": {},
   "outputs": [],
   "source": []
  },
  {
   "cell_type": "code",
   "execution_count": null,
   "metadata": {},
   "outputs": [],
   "source": []
  }
 ],
 "metadata": {
  "kernelspec": {
   "display_name": "Python 3",
   "language": "python",
   "name": "python3"
  },
  "language_info": {
   "codemirror_mode": {
    "name": "ipython",
    "version": 3
   },
   "file_extension": ".py",
   "mimetype": "text/x-python",
   "name": "python",
   "nbconvert_exporter": "python",
   "pygments_lexer": "ipython3",
   "version": "3.7.6"
  }
 },
 "nbformat": 4,
 "nbformat_minor": 4
}
