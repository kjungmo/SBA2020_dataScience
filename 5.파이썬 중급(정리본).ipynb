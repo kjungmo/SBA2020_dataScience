{
 "cells": [
  {
   "cell_type": "markdown",
   "metadata": {},
   "source": [
    "# 함수의 의미"
   ]
  },
  {
   "cell_type": "code",
   "execution_count": 1,
   "metadata": {},
   "outputs": [
    {
     "name": "stdout",
     "output_type": "stream",
     "text": [
      "7\n"
     ]
    }
   ],
   "source": [
    "def add(x, y):\n",
    "    return x+y\n",
    "\n",
    "a = add(3,4)\n",
    "print(a)"
   ]
  },
  {
   "cell_type": "code",
   "execution_count": 4,
   "metadata": {},
   "outputs": [
    {
     "name": "stdout",
     "output_type": "stream",
     "text": [
      "<class 'function'>\n"
     ]
    }
   ],
   "source": [
    "print(type(add))"
   ]
  },
  {
   "cell_type": "markdown",
   "metadata": {},
   "source": [
    "함수의 타입을 찍어봤다"
   ]
  },
  {
   "cell_type": "code",
   "execution_count": 3,
   "metadata": {},
   "outputs": [
    {
     "name": "stdout",
     "output_type": "stream",
     "text": [
      "<function add at 0x0000016578201048>\n"
     ]
    }
   ],
   "source": [
    "print(add)"
   ]
  },
  {
   "cell_type": "markdown",
   "metadata": {},
   "source": [
    "함수가 구현된 번지가 나타난다"
   ]
  },
  {
   "cell_type": "code",
   "execution_count": 6,
   "metadata": {},
   "outputs": [],
   "source": [
    "import sys"
   ]
  },
  {
   "cell_type": "code",
   "execution_count": 7,
   "metadata": {},
   "outputs": [
    {
     "data": {
      "text/plain": [
       "2"
      ]
     },
     "execution_count": 7,
     "metadata": {},
     "output_type": "execute_result"
    }
   ],
   "source": [
    "sys.getrefcount(add)"
   ]
  },
  {
   "cell_type": "markdown",
   "metadata": {},
   "source": [
    "함수를 가리키는 레퍼런스의 개수를 나타낸다.\n",
    "함수가 어딘가에 포함되어 있다. \n",
    "\n",
    "어딘가에 코드를 포인팅 하는 것으로 볼 수 있다. (함수라는 존재 자체가)\n",
    "add라고 하는 녀석이 함수의 객체의 이름이다. 함수의 인스턴스를 가르키는 레퍼런스라고 보면 된다. add는 한마리인 function을 가리킨다. \n",
    "\n",
    "function에는 refs라는 카운팅이 있어서 add가 function가리키면 1을 나타내며 시스템 상에서 뭔가가 function을 가리키고 있어서 최종 2가 나온다.\n",
    "\n",
    "이렇게 나오는 것을 증가시킬 수 있는가?\n"
   ]
  },
  {
   "cell_type": "code",
   "execution_count": 10,
   "metadata": {},
   "outputs": [
    {
     "data": {
      "text/plain": [
       "3"
      ]
     },
     "execution_count": 10,
     "metadata": {},
     "output_type": "execute_result"
    }
   ],
   "source": [
    "add1 = add\n",
    "\n",
    "# 함수의 이름으로 다른데에다 넣을 수 있다\n",
    "# 레퍼런스 카운트가 증분하게 된다\n",
    "\n",
    "sys.getrefcount(add)"
   ]
  },
  {
   "cell_type": "markdown",
   "metadata": {},
   "source": [
    "이전에 2였다가 시스템 내부적으로 하나가 늘어나서 3이된다. 같은 함수를 가리키는 포인터(ref)가 증분됨\n",
    "\n",
    "함수를 또 하나 만드는 것이 아니다!\n",
    "\n",
    "기존 코드 호출 하는 식으로 해도 함수는 동일하게 작동한다.\n",
    "함수 이름을 다른 변수에 옮길 수 있다는 말이다. \n",
    "\n",
    "연결을 끊는다는 것은(변수를 지우는 꼴)\n"
   ]
  },
  {
   "cell_type": "code",
   "execution_count": 11,
   "metadata": {},
   "outputs": [
    {
     "data": {
      "text/plain": [
       "2"
      ]
     },
     "execution_count": 11,
     "metadata": {},
     "output_type": "execute_result"
    }
   ],
   "source": [
    "del add1 \n",
    "sys.getrefcount(add)"
   ]
  },
  {
   "cell_type": "markdown",
   "metadata": {},
   "source": [
    "메모리에서 날아가는 꼴이 되어 지워진다. 지워지면 연결이 끊어졌다고 볼 수 있고 refcount가 감소한다.\n",
    "\n",
    "refcount 가 0이 되면 지워진다. \n",
    "\n",
    "우리프로그램이 끝나면 다 없어지긴 한다. \n",
    "\n",
    "강제로 지우는 것은 del\n",
    "\n",
    "함수도 객체라는 사실!\n",
    "\n",
    "ref가 0이되면 자연소멸하므로 파이썬에서는 신경쓰지 않아도 된다!\n",
    "\n",
    "사실 파이썬은 많은것이 객체이다...."
   ]
  },
  {
   "cell_type": "markdown",
   "metadata": {},
   "source": [
    "### 함수 default parameter의 주의사항"
   ]
  },
  {
   "cell_type": "code",
   "execution_count": 12,
   "metadata": {},
   "outputs": [
    {
     "data": {
      "text/plain": [
       "10"
      ]
     },
     "execution_count": 12,
     "metadata": {},
     "output_type": "execute_result"
    }
   ],
   "source": [
    "a = 10\n",
    "def foo(x = a):\n",
    "    return x\n",
    "\n",
    "foo()"
   ]
  },
  {
   "cell_type": "markdown",
   "metadata": {},
   "source": [
    "인자를 주지 않으면 default parameter가 출력된다."
   ]
  },
  {
   "cell_type": "code",
   "execution_count": 13,
   "metadata": {},
   "outputs": [
    {
     "data": {
      "text/plain": [
       "10"
      ]
     },
     "execution_count": 13,
     "metadata": {},
     "output_type": "execute_result"
    }
   ],
   "source": [
    "a = 10\n",
    "def foo(x = a):\n",
    "    return x\n",
    "a = 5\n",
    "foo()"
   ]
  },
  {
   "cell_type": "markdown",
   "metadata": {},
   "source": [
    "전역변수가 바뀌어도 호출 전과 다르게 나올까?\n",
    "\n",
    "호출시 결정되는 것이 아니라\n",
    "정의할 때 디폴트파라메터는 정의된다!\n",
    "\n",
    "### 디폴트 파라메터는 함수 정의시 결정된다."
   ]
  },
  {
   "cell_type": "code",
   "execution_count": 14,
   "metadata": {},
   "outputs": [
    {
     "data": {
      "text/plain": [
       "[1]"
      ]
     },
     "execution_count": 14,
     "metadata": {},
     "output_type": "execute_result"
    }
   ],
   "source": [
    "def foo(x, items = []):\n",
    "    items.append(x)\n",
    "    return items\n",
    "\n",
    "foo(1)"
   ]
  },
  {
   "cell_type": "code",
   "execution_count": 15,
   "metadata": {},
   "outputs": [
    {
     "data": {
      "text/plain": [
       "[1, 2]"
      ]
     },
     "execution_count": 15,
     "metadata": {},
     "output_type": "execute_result"
    }
   ],
   "source": [
    "foo(2)"
   ]
  },
  {
   "cell_type": "markdown",
   "metadata": {},
   "source": [
    "빈리스트에 2 추가되면 2가 나와야 하지만\n",
    "리스트가 언제 결정 되냐면 호출시 결정 됏다면\n",
    "매번 빈 리스트가 문제되지 않는데\n",
    "정의시 리스트 됐기 때문에 정의시 빈리스트가 됏다면\n",
    "다시는 빈리스트가 되는 것이 아니다.\n",
    "함수 정의시 엠티리스트가 결정되고\n",
    "호출 시에는 남는다. \n",
    "계속 이용이 되기 때문에 1, 2가 나오는 것이다\n",
    "\n",
    "\n",
    "#### 디폴트 파라메타의 리스트는 함수 정의시에 결정된다. \n",
    "호출을 아무리 많이 해도 호출할 때마다 결정되는 것이 아니라 \n",
    "이미 하나 결정되면 이 리스트에 추가 추가 된단 말이다. \n",
    "이렇게 짜면 안되고"
   ]
  },
  {
   "cell_type": "code",
   "execution_count": 18,
   "metadata": {},
   "outputs": [
    {
     "data": {
      "text/plain": [
       "[1]"
      ]
     },
     "execution_count": 18,
     "metadata": {},
     "output_type": "execute_result"
    }
   ],
   "source": [
    "def foo(x, items = None): # 이렇게 아무런 타입이 없는 것으로 정의해줘야 한다\n",
    "    if items is None:\n",
    "        items = []\n",
    "    items.append(x)\n",
    "    return items\n",
    "\n",
    "foo(1)"
   ]
  },
  {
   "cell_type": "code",
   "execution_count": 19,
   "metadata": {},
   "outputs": [
    {
     "data": {
      "text/plain": [
       "[2]"
      ]
     },
     "execution_count": 19,
     "metadata": {},
     "output_type": "execute_result"
    }
   ],
   "source": [
    "foo(2)"
   ]
  },
  {
   "cell_type": "markdown",
   "metadata": {},
   "source": [
    "함수가 지역성을 갖게 하려면 바로 위 처럼 작성해야 한다.\n",
    "\n",
    "정의시에 디폴트 파라메터가 정의되기 때문에 우리의 생각과 출력이 다르게 나왔다라는 점"
   ]
  },
  {
   "cell_type": "markdown",
   "metadata": {},
   "source": [
    "# 가변 인자"
   ]
  },
  {
   "cell_type": "code",
   "execution_count": 20,
   "metadata": {},
   "outputs": [],
   "source": [
    "def fprintf(file, fmt, *args):\n",
    "    file.write(fmt % args )"
   ]
  },
  {
   "cell_type": "code",
   "execution_count": 21,
   "metadata": {},
   "outputs": [
    {
     "name": "stdout",
     "output_type": "stream",
     "text": [
      "42 hello 3.140000"
     ]
    }
   ],
   "source": [
    "fprintf(sys.stdout, \"%d %s %f\", 42, \"hello\", 3.14)"
   ]
  },
  {
   "cell_type": "markdown",
   "metadata": {},
   "source": [
    "인자는 많은데 순번대로 파일로 넘어가는 것이다. 나머지 전체는 args로 넘어가는 것이다. 인자가 하나, 둘, 세개가 와도 받아준 것을 인자를 똑같이 슨 것과 같이 나온다\n",
    "\n",
    "가변인자를 쓰면 ~\n",
    "\n",
    "포메팅은 인자가 하난데 받으면 되지만, 뒤의 인자는 arguments가 여러개 올 수 있기 때문에 \\*args라고 사용하면 다 받아줘라 라는 뜻으로 사용가능하다\n",
    "\n",
    "\n",
    "# <span style=\"color : red\" >모르겠습니다 </span>"
   ]
  },
  {
   "cell_type": "code",
   "execution_count": 32,
   "metadata": {},
   "outputs": [],
   "source": [
    "def printf( fmt, *args):\n",
    "    fprintf(sys.stdout,fmt,  *args )"
   ]
  },
  {
   "cell_type": "code",
   "execution_count": 33,
   "metadata": {},
   "outputs": [
    {
     "name": "stdout",
     "output_type": "stream",
     "text": [
      "42 hello 3.140000"
     ]
    }
   ],
   "source": [
    "printf( \"%d %s %f\", 42, \"hello\", 3.14)"
   ]
  },
  {
   "cell_type": "markdown",
   "metadata": {},
   "source": [
    "다양한 함수를 사용할 수 있다\n",
    "언패킹 하는 것이다"
   ]
  },
  {
   "cell_type": "markdown",
   "metadata": {},
   "source": [
    "# 키워드 인수"
   ]
  },
  {
   "cell_type": "markdown",
   "metadata": {},
   "source": [
    "인자를 키워드로 지정해서 넘기는 방법이다"
   ]
  },
  {
   "cell_type": "code",
   "execution_count": 35,
   "metadata": {},
   "outputs": [],
   "source": [
    "def foo(x, w, y, z):\n",
    "    print(x, w, y, z)"
   ]
  },
  {
   "cell_type": "code",
   "execution_count": 36,
   "metadata": {},
   "outputs": [
    {
     "name": "stdout",
     "output_type": "stream",
     "text": [
      "1 2 3 4\n"
     ]
    }
   ],
   "source": [
    "foo(1, 2,3, 4,)"
   ]
  },
  {
   "cell_type": "markdown",
   "metadata": {},
   "source": [
    "이렇게 넘기는게 디폴트이긴 하나"
   ]
  },
  {
   "cell_type": "code",
   "execution_count": 39,
   "metadata": {},
   "outputs": [
    {
     "name": "stdout",
     "output_type": "stream",
     "text": [
      "hello 3 [1, 2] 3.14\n"
     ]
    }
   ],
   "source": [
    "foo('hello', 3, [1,2], 3.14)"
   ]
  },
  {
   "cell_type": "code",
   "execution_count": 40,
   "metadata": {},
   "outputs": [
    {
     "name": "stdout",
     "output_type": "stream",
     "text": [
      "hello 3 3.14 [1, 2]\n"
     ]
    }
   ],
   "source": [
    "foo('hello', 3, z=[1,2], y=3.14)"
   ]
  },
  {
   "cell_type": "markdown",
   "metadata": {},
   "source": [
    "지칭해서 넣으면 이렇게 순서가 바뀐다"
   ]
  },
  {
   "cell_type": "markdown",
   "metadata": {},
   "source": [
    "이때 주의 사항은 위치 변수를 override할 수 없다는 것이 주의사항이다\n",
    "\n",
    "\n",
    "이미 들어간 3에 대해 w라고 리스트 바꿔 쓸 순 없다.\n",
    "한번 넣은 것을 또 넣는 것은 안된다. 이미 위의 위치 인자와 겹치지 않게 넣으면 된다는 말이다\n",
    "\n",
    "\n",
    "항상 포지셔닝 변수가 우선한다. (위치 변수)"
   ]
  },
  {
   "cell_type": "code",
   "execution_count": 42,
   "metadata": {},
   "outputs": [
    {
     "ename": "TypeError",
     "evalue": "foo() got multiple values for argument 'w'",
     "output_type": "error",
     "traceback": [
      "\u001b[1;31m---------------------------------------------------------------------------\u001b[0m",
      "\u001b[1;31mTypeError\u001b[0m                                 Traceback (most recent call last)",
      "\u001b[1;32m<ipython-input-42-620d1d10d902>\u001b[0m in \u001b[0;36m<module>\u001b[1;34m\u001b[0m\n\u001b[1;32m----> 1\u001b[1;33m \u001b[0mfoo\u001b[0m\u001b[1;33m(\u001b[0m\u001b[1;34m'hello'\u001b[0m\u001b[1;33m,\u001b[0m \u001b[1;36m3\u001b[0m\u001b[1;33m,\u001b[0m \u001b[0mw\u001b[0m\u001b[1;33m=\u001b[0m\u001b[1;33m[\u001b[0m\u001b[1;36m1\u001b[0m\u001b[1;33m,\u001b[0m\u001b[1;36m2\u001b[0m\u001b[1;33m]\u001b[0m\u001b[1;33m,\u001b[0m \u001b[0my\u001b[0m\u001b[1;33m=\u001b[0m\u001b[1;36m3.14\u001b[0m\u001b[1;33m)\u001b[0m\u001b[1;33m\u001b[0m\u001b[1;33m\u001b[0m\u001b[0m\n\u001b[0m",
      "\u001b[1;31mTypeError\u001b[0m: foo() got multiple values for argument 'w'"
     ]
    }
   ],
   "source": [
    "foo('hello', 3, w=[1,2], y=3.14)"
   ]
  },
  {
   "cell_type": "markdown",
   "metadata": {},
   "source": [
    "# 가변 키워드 인수"
   ]
  },
  {
   "cell_type": "code",
   "execution_count": 43,
   "metadata": {},
   "outputs": [],
   "source": [
    "def make_table( data, **parms):\n",
    "    print(parms)"
   ]
  },
  {
   "cell_type": "code",
   "execution_count": 45,
   "metadata": {},
   "outputs": [
    {
     "name": "stdout",
     "output_type": "stream",
     "text": [
      "{'fgcolor': 'red', 'bgcolor': 'black'}\n"
     ]
    }
   ],
   "source": [
    "make_table(1,fgcolor = \"red\", bgcolor = \"black\")"
   ]
  },
  {
   "cell_type": "markdown",
   "metadata": {},
   "source": [
    "딕셔너리 형태로 생성이 되었다.  변수이름이 키워드, 뒤의 색이 value로 넘어왔구나\n",
    "\n",
    "가변 키워드 인수는!\n",
    "\n",
    "여러개 넘길 수 있는게 가변 키워드 인수다. \n",
    "kwargs\n",
    "\n",
    "딕셔너리 이기 때문에 지우면서 뽑아낼 수 있다."
   ]
  },
  {
   "cell_type": "code",
   "execution_count": 46,
   "metadata": {},
   "outputs": [],
   "source": [
    "def make_table( data, **parms):\n",
    "    fgcolor = parms.pop(\"fgcolor\")\n",
    "    print(fgcolor)"
   ]
  },
  {
   "cell_type": "code",
   "execution_count": 47,
   "metadata": {},
   "outputs": [
    {
     "name": "stdout",
     "output_type": "stream",
     "text": [
      "red\n"
     ]
    }
   ],
   "source": [
    "make_table(1,fgcolor = \"red\", bgcolor = \"black\")"
   ]
  },
  {
   "cell_type": "markdown",
   "metadata": {},
   "source": [
    "가변 인자이기 때문에 원하는 것을 뽑아가면서 사용할 수 있다"
   ]
  },
  {
   "cell_type": "code",
   "execution_count": 50,
   "metadata": {},
   "outputs": [],
   "source": [
    "def make_table( data, **parms):\n",
    "    fgcolor = parms.pop(\"fgcolor\")\n",
    "    bgcolor = parms.pop(\"bgcolor\")\n",
    "    width = parms.pop(\"width\")\n",
    "    print(fgcolor)\n",
    "    print(bgcolor)\n",
    "    print(width)"
   ]
  },
  {
   "cell_type": "code",
   "execution_count": 51,
   "metadata": {},
   "outputs": [
    {
     "name": "stdout",
     "output_type": "stream",
     "text": [
      "red\n",
      "black\n",
      "400\n"
     ]
    }
   ],
   "source": [
    "make_table(1,fgcolor = \"red\", bgcolor = \"black\", border = 1, \n",
    "           borderstyle = \"grooved\", width = 400)"
   ]
  },
  {
   "cell_type": "code",
   "execution_count": null,
   "metadata": {},
   "outputs": [],
   "source": []
  }
 ],
 "metadata": {
  "kernelspec": {
   "display_name": "Python 3",
   "language": "python",
   "name": "python3"
  },
  "language_info": {
   "codemirror_mode": {
    "name": "ipython",
    "version": 3
   },
   "file_extension": ".py",
   "mimetype": "text/x-python",
   "name": "python",
   "nbconvert_exporter": "python",
   "pygments_lexer": "ipython3",
   "version": "3.7.6"
  }
 },
 "nbformat": 4,
 "nbformat_minor": 4
}
